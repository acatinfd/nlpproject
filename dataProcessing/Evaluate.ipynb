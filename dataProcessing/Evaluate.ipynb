{
 "cells": [
  {
   "cell_type": "code",
   "execution_count": 2,
   "metadata": {
    "collapsed": false
   },
   "outputs": [
    {
     "name": "stdout",
     "output_type": "stream",
     "text": [
      "3477\n"
     ]
    }
   ],
   "source": [
    "import pickle\n",
    "\n",
    "result_lda = {}\n",
    "with open(\"test_rst.json\") as f:\n",
    "    for raw in f:\n",
    "        raw = raw.replace('true', 'True').replace('false', 'False')\n",
    "        b = eval(raw)\n",
    "        if b['tip']:\n",
    "            result_lda[str(b['reviewId']) + str(b['sentencesId'])] = b['tip']\n",
    "\n",
    "print (len(result_lda))"
   ]
  },
  {
   "cell_type": "code",
   "execution_count": 7,
   "metadata": {
    "collapsed": true
   },
   "outputs": [],
   "source": [
    "result_j1 = pickle.load( open( \"result_combine23.p\", \"rb\") )\n",
    "sortedSentenceList1 = pickle.load ( open ( \"judgerTestSet.p\", \"rb\") )\n",
    "sortedSentenceList = sortedSentenceList1[:2000]\n",
    "pickle.dump(sortedSentenceList, open( \"smallTestSet.p\", \"wb\") )"
   ]
  },
  {
   "cell_type": "code",
   "execution_count": 4,
   "metadata": {
    "collapsed": false
   },
   "outputs": [
    {
     "name": "stdout",
     "output_type": "stream",
     "text": [
      "('precision = ', '0.355742296919')\n",
      "('recall = ', '0.390769230769')\n"
     ]
    }
   ],
   "source": [
    "#evaluate the result by judger vs result by lda\n",
    "truePos = 0\n",
    "Pos = len(result_j1)\n",
    "Pos_lda = 0\n",
    "\n",
    "for res_id in result_j1:\n",
    "    if res_id in result_lda:\n",
    "        truePos += 1\n",
    " \n",
    "for sen in sortedSentenceList:\n",
    "    sen_id = str(sen[0]) + str(sen[1])\n",
    "    if sen_id in result_lda:\n",
    "        Pos_lda += 1\n",
    "    \n",
    "print (\"precision = \", str(float(truePos*1.0/Pos_lda) ) )\n",
    "print (\"recall = \", str(float(truePos*1.0/Pos) ) )\n"
   ]
  },
  {
   "cell_type": "code",
   "execution_count": 9,
   "metadata": {
    "collapsed": false
   },
   "outputs": [
    {
     "name": "stdout",
     "output_type": "stream",
     "text": [
      "('Random: precision = ', '0.324615384615')\n",
      "('Random: recall = ', '0.324615384615')\n"
     ]
    }
   ],
   "source": [
    "import random\n",
    "def random_selection(sentence_list, tipNum):\n",
    "    total = min(len(sentence_list), tipNum)\n",
    "    \n",
    "    return random.sample(sentence_list, total)\n",
    "\n",
    "random = random_selection(sortedSentenceList, Pos)\n",
    "#pickle.dump( open( \"random.p\", \"rb\") )\n",
    "#evaluate the result by judger vs result by random\n",
    "truePosR = 0\n",
    "Pos_random = 0\n",
    "#random = pickle.load( open( \"random.p\", \"rb\") )\n",
    "result_ran = {}\n",
    "\n",
    "#build a dictionary\n",
    "for res in random:\n",
    "    result_ran[str(res[0] + str(res[1]))] = True\n",
    "\n",
    "for res_id in result_j1:\n",
    "    if res_id in result_ran:\n",
    "        truePosR += 1\n",
    "\n",
    "print (\"Random: precision = \", str(float(truePosR*1.0/Pos) ) )\n",
    "print (\"Random: recall = \", str(float(truePosR*1.0/Pos) ) )\n",
    "\n",
    "\n"
   ]
  },
  {
   "cell_type": "code",
   "execution_count": 23,
   "metadata": {
    "collapsed": false
   },
   "outputs": [
    {
     "name": "stdout",
     "output_type": "stream",
     "text": [
      "('maxLen: precision = ', '0.0738461538462')\n",
      "('maxLen: recall = ', '0.0738461538462')\n"
     ]
    }
   ],
   "source": [
    "#evaluate the result by judger vs result by maxLeng\n",
    "truePosMax = 0\n",
    "Pos_max = 0\n",
    "maxLen = pickle.load( open( \"maxLen.p\", \"rb\") )\n",
    "result_max = {}\n",
    "\n",
    "#build a dictionary\n",
    "for res in maxLen:\n",
    "    result_max[str(res[0] + str(res[1]))] = True\n",
    "\n",
    "for res_id in result_j1:\n",
    "    if res_id in result_max:\n",
    "        truePosMax += 1\n",
    "\n",
    "print (\"maxLen: precision = \", str(float(truePosMax*1.0/Pos) ) )\n",
    "print (\"maxLen: recall = \", str(float(truePosMax*1.0/Pos) ) )\n",
    "\n"
   ]
  },
  {
   "cell_type": "code",
   "execution_count": 24,
   "metadata": {
    "collapsed": false
   },
   "outputs": [
    {
     "name": "stdout",
     "output_type": "stream",
     "text": [
      "('minLen: precision = ', '0.0')\n",
      "('minLen: recall = ', '0.0')\n"
     ]
    }
   ],
   "source": [
    "#evaluate the result by judger vs result by minLeng\n",
    "truePosMin = 0\n",
    "Pos_min = 0\n",
    "minLen = pickle.load( open( \"minLen.p\", \"rb\") )\n",
    "result_min = {}\n",
    "\n",
    "#build a dictionary\n",
    "for res in minLen:\n",
    "    result_min[str(res[0] + str(res[1]))] = True\n",
    "\n",
    "for res_id in result_j1:\n",
    "    if res_id in result_min:\n",
    "        truePosMin += 1\n",
    "\n",
    "print (\"minLen: precision = \", str(float(truePosMin*1.0/Pos) ) )\n",
    "print (\"minLen: recall = \", str(float(truePosMin*1.0/Pos) ) )\n",
    "\n"
   ]
  },
  {
   "cell_type": "code",
   "execution_count": 25,
   "metadata": {
    "collapsed": false
   },
   "outputs": [
    {
     "name": "stdout",
     "output_type": "stream",
     "text": [
      "('popular: precision = ', '0.309230769231')\n",
      "('popular: recall = ', '0.309230769231')\n"
     ]
    }
   ],
   "source": [
    "#evaluate the result by judger vs result by popular\n",
    "truePosPop = 0\n",
    "Pos_pop = 0\n",
    "popular = pickle.load( open( \"popular.p\", \"rb\") )\n",
    "result_pop = {}\n",
    "\n",
    "#build a dictionary\n",
    "for res in popular:\n",
    "    result_pop[str(res[0] + str(res[1]))] = True\n",
    "\n",
    "for res_id in result_j1:\n",
    "    if res_id in result_pop:\n",
    "        truePosPop += 1\n",
    "\n",
    "print (\"popular: precision = \", str(float(truePosPop*1.0/Pos) ) )\n",
    "print (\"popular: recall = \", str(float(truePosPop*1.0/Pos) ) )\n",
    "\n"
   ]
  },
  {
   "cell_type": "code",
   "execution_count": 7,
   "metadata": {
    "collapsed": false
   },
   "outputs": [
    {
     "name": "stdout",
     "output_type": "stream",
     "text": [
      "905\n",
      "925\n",
      "942\n",
      "906\n"
     ]
    }
   ],
   "source": [
    "#get result from two judger\n",
    "import pickle\n",
    "\n",
    "result_j1 = pickle.load( open( \"judger_tips_x.p\", \"rb\") )\n",
    "result_j2 = pickle.load( open( \"judger_tips_y.p\", \"rb\") )\n",
    "#result_j2 = pickle.load( open( \"judger_tips_d.p\", \"rb\") )\n",
    "result_j3 = pickle.load( open( \"judger_tips_d.p\", \"rb\") )\n",
    "\n",
    "print len(result_j1)\n",
    "print len(result_j2)\n",
    "print len(result_j3)\n",
    "\n",
    "result_count = {}\n",
    "result_combine2 = {}\n",
    "\n",
    "for res in result_j1:\n",
    "    res_id = str(res[0]) + str(res[1])\n",
    "    result_count[res_id] = 1\n",
    "\n",
    "for res in result_j2:\n",
    "    res_id = str(res[0]) + str(res[1])\n",
    "    if res_id in result_count:\n",
    "        result_combine2[res_id] = 1\n",
    "    else:\n",
    "        result_count[res_id] = 1\n",
    "\n",
    "for res in result_j3:\n",
    "    res_id = str(res[0]) + str(res[1])\n",
    "    if res_id in result_count:\n",
    "        result_combine2[res_id] = 1\n",
    "\n",
    "\n",
    "print len(result_combine2)\n",
    "pickle.dump(result_combine2, open( 'result_combine2.p', 'wb'))"
   ]
  },
  {
   "cell_type": "code",
   "execution_count": 6,
   "metadata": {
    "collapsed": false
   },
   "outputs": [
    {
     "data": {
      "text/plain": [
       "650"
      ]
     },
     "execution_count": 6,
     "metadata": {},
     "output_type": "execute_result"
    }
   ],
   "source": [
    "import pickle\n",
    "result = pickle.load( open( \"result_combine23.p\", \"rb\") )\n",
    "len(result)"
   ]
  },
  {
   "cell_type": "code",
   "execution_count": null,
   "metadata": {
    "collapsed": true
   },
   "outputs": [],
   "source": []
  }
 ],
 "metadata": {
  "kernelspec": {
   "display_name": "Python 2",
   "language": "python",
   "name": "python2"
  },
  "language_info": {
   "codemirror_mode": {
    "name": "ipython",
    "version": 2
   },
   "file_extension": ".py",
   "mimetype": "text/x-python",
   "name": "python",
   "nbconvert_exporter": "python",
   "pygments_lexer": "ipython2",
   "version": "2.7.9"
  }
 },
 "nbformat": 4,
 "nbformat_minor": 0
}
