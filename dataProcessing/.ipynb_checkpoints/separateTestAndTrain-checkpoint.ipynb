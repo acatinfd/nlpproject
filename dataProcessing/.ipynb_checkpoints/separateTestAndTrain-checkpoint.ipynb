{
 "cells": [
  {
   "cell_type": "code",
   "execution_count": 2,
   "metadata": {
    "collapsed": false
   },
   "outputs": [],
   "source": [
    "import pickle\n",
    "all_business = pickle.load(open( \"../../saveBusiness.p\", \"rb\" ))\n"
   ]
  },
  {
   "cell_type": "code",
   "execution_count": 7,
   "metadata": {
    "collapsed": false
   },
   "outputs": [
    {
     "name": "stdout",
     "output_type": "stream",
     "text": [
      "('total = ', 1098)\n",
      "I drove to Inchins on their very first day and without a doubt it was very crowded. I had to leave the place without any dinner because I have a 7 month old son and he would not allow me to wait for a long time. No complains there. \n",
      "I came back on the upcoming Wednesday and the place had mild traffic. The service was terrific and we were served our food quickly. Service was very good and I commend the place for that. Not too sure how efficiently they would function in extremely high traffic. \n",
      "\n",
      "Moving on to the food: \n",
      "1) Not too spicy as you get it in India (but I dont mind that part) \n",
      "2) Generous portion sizes \n",
      "3) Good menu choices (vegetarian and non vegetarian) \n",
      "4) Prices: Not on the modest side. $10 for a starter is a little bit high for me. \n",
      "5) Additional sauces on the side are a big plus and improve the taste of the food.\n",
      "\n",
      "Overall, I would recommend this place to anyone who would like to try out something new for a change. But if you expect spicy indianized chinese, this is not for you.\n",
      "\n",
      "EDIT: Visited this location again. The staff was pleasant as usual, but the food is downright boring. The Chineese bhel was probably fried in used oil and the Chicken manchurian lacked any flavor. Not going back to this place. Boring...yawn!\n",
      "('total reviews: ', 1098)\n"
     ]
    }
   ],
   "source": [
    "\n",
    "all_data = all_business.values()\n",
    "k = 0\n",
    "total = 0\n",
    "while total < 1000:\n",
    "     total = total + len(all_data[k]['reviews'])\n",
    "     k = k + 1\n",
    "print ('total = ', total)\n",
    "\n",
    "test_set = all_data[:k]\n",
    "training_set = all_data[k:]\n",
    "\n",
    "flag = 0\n",
    "test_review_count = 0\n",
    "for business in test_set:\n",
    "    for review in business['reviews']:    \n",
    "        test_review_count += 1\n",
    "        if flag == 0:\n",
    "            print (review['text'])\n",
    "            flag = 1\n",
    "\n",
    "print (\"total reviews: \", test_review_count)"
   ]
  },
  {
   "cell_type": "code",
   "execution_count": 8,
   "metadata": {
    "collapsed": true
   },
   "outputs": [],
   "source": [
    "pickle.dump( test_set, open( \"saveReviewTestSet.p\", \"wb\") )\n",
    "pickle.dump( training_set, open( \"saveReviewTrainingSet.p\", \"wb\") )"
   ]
  },
  {
   "cell_type": "code",
   "execution_count": 1,
   "metadata": {
    "collapsed": false
   },
   "outputs": [
    {
     "ename": "NameError",
     "evalue": "name 'pickle' is not defined",
     "output_type": "error",
     "traceback": [
      "\u001b[0;31m---------------------------------------------------------------------------\u001b[0m",
      "\u001b[0;31mNameError\u001b[0m                                 Traceback (most recent call last)",
      "\u001b[0;32m<ipython-input-1-132b64594d29>\u001b[0m in \u001b[0;36m<module>\u001b[0;34m()\u001b[0m\n\u001b[0;32m----> 1\u001b[0;31m \u001b[0mtraining_set\u001b[0m \u001b[0;34m=\u001b[0m \u001b[0mpickle\u001b[0m\u001b[0;34m.\u001b[0m\u001b[0mload\u001b[0m\u001b[0;34m(\u001b[0m \u001b[0mopen\u001b[0m\u001b[0;34m(\u001b[0m \u001b[0;34m\"../../saveReviewTrainingSet.p\"\u001b[0m\u001b[0;34m,\u001b[0m \u001b[0;34m\"rb\"\u001b[0m\u001b[0;34m)\u001b[0m \u001b[0;34m)\u001b[0m\u001b[0;34m\u001b[0m\u001b[0m\n\u001b[0m",
      "\u001b[0;31mNameError\u001b[0m: name 'pickle' is not defined"
     ]
    }
   ],
   "source": [
    "training_set = pickle.load( open( \"../../saveReviewTrainingSet.p\", \"rb\") )"
   ]
  },
  {
   "cell_type": "code",
   "execution_count": null,
   "metadata": {
    "collapsed": true
   },
   "outputs": [],
   "source": []
  }
 ],
 "metadata": {
  "kernelspec": {
   "display_name": "Python 2",
   "language": "python",
   "name": "python2"
  },
  "language_info": {
   "codemirror_mode": {
    "name": "ipython",
    "version": 2
   },
   "file_extension": ".py",
   "mimetype": "text/x-python",
   "name": "python",
   "nbconvert_exporter": "python",
   "pygments_lexer": "ipython2",
   "version": "2.7.9"
  }
 },
 "nbformat": 4,
 "nbformat_minor": 0
}
