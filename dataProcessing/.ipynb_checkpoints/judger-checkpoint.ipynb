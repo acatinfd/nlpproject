{
 "cells": [
  {
   "cell_type": "code",
   "execution_count": 2,
   "metadata": {
    "collapsed": true
   },
   "outputs": [],
   "source": [
    "import pickle\n",
    "import nltk\n",
    "\n",
    "test_set = pickle.load ( open ( \"../../saveReviewTestSet.p\", \"rb\") )"
   ]
  },
  {
   "cell_type": "code",
   "execution_count": 4,
   "metadata": {
    "collapsed": false
   },
   "outputs": [
    {
     "name": "stdout",
     "output_type": "stream",
     "text": [
      "('sentence list: ', 10351)\n",
      "('sorted: ', 10351)\n"
     ]
    }
   ],
   "source": [
    "sentence_list = []\n",
    "\n",
    "for business in test_set:\n",
    "    for review in business['reviews']:\n",
    "        sentences = nltk.sent_tokenize(review['text'].lower())\n",
    "        \n",
    "        k = 0\n",
    "        for sentence in sentences:\n",
    "            sentence_list.append((review['review_id'], k, sentence) )\n",
    "            k += 1\n",
    "\n",
    "sortedSentenceList = sorted(sentence_list, key = lambda p: p[0])\n",
    "pickle.dump (sortedSentenceList, open ( \"judgerTestSet.p\", \"wb\") )\n",
    "        \n",
    "print (\"sentence list: \", len(sentence_list) )\n",
    "print ('sorted: ', len(sortedSentenceList))"
   ]
  },
  {
   "cell_type": "code",
   "execution_count": 2,
   "metadata": {
    "collapsed": false
   },
   "outputs": [],
   "source": [
    "import pickle\n",
    "checkPoint = 1095\n",
    "pickle.dump (checkPoint, open ( \"judgerCheckPoint.p\", \"wb\") )\n",
    "\n",
    "judger_tips = []\n",
    "pickle.dump (judger_tips, open ( \"judger_tips.p\", \"wb\") )"
   ]
  },
  {
   "cell_type": "code",
   "execution_count": 11,
   "metadata": {
    "collapsed": false
   },
   "outputs": [],
   "source": [
    "import math\n",
    "def currentProcess(last, total):\n",
    "    if last >= total:\n",
    "        print \"Congratulations! You have finished all the sentences!\"\n",
    "        anw = input('Press any key to leave: ')\n",
    "        return\n",
    "    \n",
    "    percentage = math.ceil(float(last)/total*100)\n",
    "    print (str(last) + ' sentences! You have finished ' + str(percentage) + '% of all the sentences!')\n",
    "    \n",
    "def judge(lastPoint, stopPoint, sortedSentenceList, judger_tips):  \n",
    "      \n",
    "    print ('Please finish the following 30 sentences before you take a break.')\n",
    "    print ('For each sentence, enter \\'y\\' if it is a tip, enter \\'n\\' elsewise.')\n",
    "    \n",
    "    k = lastPoint\n",
    "    while k < stopPoint:\n",
    "        isTip = raw_input((str(k) + ':' + sortedSentenceList[k][2] + '\\n'))\n",
    "        while not (isTip in ['y', 'Y', 'N', 'n']):\n",
    "            isTip = raw_input('Invalid input. Try again.\\n')\n",
    "        \n",
    "        \n",
    "        if isTip in ['Y', 'y']:\n",
    "            judger_tips.append((sortedSentenceList[k]))\n",
    "        k += 1\n",
    "    \n",
    "    pickle.dump (judger_tips, open ( \"judger_tips.p\", \"wb\") )\n",
    "    pickle.dump (stopPoint, open ( \"judgerCheckPoint.p\", \"wb\") )\n",
    "    \n",
    "def judger_selection():\n",
    "    #pre-setup\n",
    "    sortedSentenceList = pickle.load ( open ( \"judgerTestSet.p\", \"rb\") )\n",
    "    total = len(sortedSentenceList)\n",
    "    if total == 0:\n",
    "        print ('Error: empty file')\n",
    "        return\n",
    "    \n",
    "    lastPoint = pickle.load( open (\"judgerCheckPoint.p\", \"rb\") )\n",
    "    k = 30\n",
    "    stopPoint = min(lastPoint + k, total)\n",
    "    while lastPoint < total:\n",
    "        judger_tips = pickle.load ( open ( \"judger_tips.p\", \"rb\") )\n",
    "        judge(lastPoint, stopPoint, sortedSentenceList, judger_tips)\n",
    "        currentProcess(lastPoint, total)\n",
    "        \n",
    "        toContinue = raw_input('Continue? enter \\'y\\' to continue, enter \\'n\\' elsewise \\n')\n",
    "        while not (toContinue in ['y', 'Y', 'N', 'n']):\n",
    "            toContinue = raw_input('Invalid input. Try again.\\n')\n",
    "            \n",
    "        if toContinue in ['Y', 'y']:\n",
    "            lastPoint = stopPoint\n",
    "            stopPoint = min(lastPoint + k, total)\n",
    "        else:\n",
    "            break"
   ]
  },
  {
   "cell_type": "code",
   "execution_count": 7,
   "metadata": {
    "collapsed": false
   },
   "outputs": [
    {
     "data": {
      "text/plain": [
       "10351"
      ]
     },
     "execution_count": 7,
     "metadata": {},
     "output_type": "execute_result"
    }
   ],
   "source": [
    "sortedSentenceList = pickle.load ( open ( \"judgerTestSet.p\", \"rb\") )\n",
    "total = len(sortedSentenceList)\n",
    "total"
   ]
  },
  {
   "cell_type": "code",
   "execution_count": 12,
   "metadata": {
    "collapsed": false
   },
   "outputs": [
    {
     "name": "stdout",
     "output_type": "stream",
     "text": [
      "Please finish the following 30 sentences before you take a break.\n",
      "For each sentence, enter 'y' if it is a tip, enter 'n' elsewise.\n",
      "10350:sat outside on a summers evening, glass of wine and tasty pizza at hand, this west end branch is a great shout after a 'hard' days shopping.\n",
      "n\n"
     ]
    },
    {
     "ename": "NameError",
     "evalue": "global name 'math' is not defined",
     "output_type": "error",
     "traceback": [
      "\u001b[0;31m---------------------------------------------------------------------------\u001b[0m",
      "\u001b[0;31mNameError\u001b[0m                                 Traceback (most recent call last)",
      "\u001b[0;32m<ipython-input-12-2f48420a845e>\u001b[0m in \u001b[0;36m<module>\u001b[0;34m()\u001b[0m\n\u001b[1;32m      4\u001b[0m \u001b[0mjudger_tips\u001b[0m \u001b[0;34m=\u001b[0m \u001b[0;34m[\u001b[0m\u001b[0;34m]\u001b[0m\u001b[0;34m\u001b[0m\u001b[0m\n\u001b[1;32m      5\u001b[0m \u001b[0mpickle\u001b[0m\u001b[0;34m.\u001b[0m\u001b[0mdump\u001b[0m \u001b[0;34m(\u001b[0m\u001b[0mjudger_tips\u001b[0m\u001b[0;34m,\u001b[0m \u001b[0mopen\u001b[0m \u001b[0;34m(\u001b[0m \u001b[0;34m\"judger_tips.p\"\u001b[0m\u001b[0;34m,\u001b[0m \u001b[0;34m\"wb\"\u001b[0m\u001b[0;34m)\u001b[0m \u001b[0;34m)\u001b[0m\u001b[0;34m\u001b[0m\u001b[0m\n\u001b[0;32m----> 6\u001b[0;31m \u001b[0mjudger_selection\u001b[0m\u001b[0;34m(\u001b[0m\u001b[0;34m)\u001b[0m\u001b[0;34m\u001b[0m\u001b[0m\n\u001b[0m",
      "\u001b[0;32m<ipython-input-11-7b55ad40f15c>\u001b[0m in \u001b[0;36mjudger_selection\u001b[0;34m()\u001b[0m\n\u001b[1;32m     41\u001b[0m         \u001b[0mjudger_tips\u001b[0m \u001b[0;34m=\u001b[0m \u001b[0mpickle\u001b[0m\u001b[0;34m.\u001b[0m\u001b[0mload\u001b[0m \u001b[0;34m(\u001b[0m \u001b[0mopen\u001b[0m \u001b[0;34m(\u001b[0m \u001b[0;34m\"judger_tips.p\"\u001b[0m\u001b[0;34m,\u001b[0m \u001b[0;34m\"rb\"\u001b[0m\u001b[0;34m)\u001b[0m \u001b[0;34m)\u001b[0m\u001b[0;34m\u001b[0m\u001b[0m\n\u001b[1;32m     42\u001b[0m         \u001b[0mjudge\u001b[0m\u001b[0;34m(\u001b[0m\u001b[0mlastPoint\u001b[0m\u001b[0;34m,\u001b[0m \u001b[0mstopPoint\u001b[0m\u001b[0;34m,\u001b[0m \u001b[0msortedSentenceList\u001b[0m\u001b[0;34m,\u001b[0m \u001b[0mjudger_tips\u001b[0m\u001b[0;34m)\u001b[0m\u001b[0;34m\u001b[0m\u001b[0m\n\u001b[0;32m---> 43\u001b[0;31m         \u001b[0mcurrentProcess\u001b[0m\u001b[0;34m(\u001b[0m\u001b[0mlastPoint\u001b[0m\u001b[0;34m,\u001b[0m \u001b[0mtotal\u001b[0m\u001b[0;34m)\u001b[0m\u001b[0;34m\u001b[0m\u001b[0m\n\u001b[0m\u001b[1;32m     44\u001b[0m \u001b[0;34m\u001b[0m\u001b[0m\n\u001b[1;32m     45\u001b[0m         \u001b[0mtoContinue\u001b[0m \u001b[0;34m=\u001b[0m \u001b[0mraw_input\u001b[0m\u001b[0;34m(\u001b[0m\u001b[0;34m'Continue? enter \\'y\\' to continue, enter \\'n\\' elsewise \\n'\u001b[0m\u001b[0;34m)\u001b[0m\u001b[0;34m\u001b[0m\u001b[0m\n",
      "\u001b[0;32m<ipython-input-11-7b55ad40f15c>\u001b[0m in \u001b[0;36mcurrentProcess\u001b[0;34m(last, total)\u001b[0m\n\u001b[1;32m      5\u001b[0m         \u001b[0;32mreturn\u001b[0m\u001b[0;34m\u001b[0m\u001b[0m\n\u001b[1;32m      6\u001b[0m \u001b[0;34m\u001b[0m\u001b[0m\n\u001b[0;32m----> 7\u001b[0;31m     \u001b[0mpercentage\u001b[0m \u001b[0;34m=\u001b[0m \u001b[0mmath\u001b[0m\u001b[0;34m.\u001b[0m\u001b[0mceil\u001b[0m\u001b[0;34m(\u001b[0m\u001b[0mfloat\u001b[0m\u001b[0;34m(\u001b[0m\u001b[0mlast\u001b[0m\u001b[0;34m)\u001b[0m\u001b[0;34m/\u001b[0m\u001b[0mtotal\u001b[0m\u001b[0;34m*\u001b[0m\u001b[0;36m100\u001b[0m\u001b[0;34m)\u001b[0m\u001b[0;34m\u001b[0m\u001b[0m\n\u001b[0m\u001b[1;32m      8\u001b[0m     \u001b[0;32mprint\u001b[0m \u001b[0;34m(\u001b[0m\u001b[0mstr\u001b[0m\u001b[0;34m(\u001b[0m\u001b[0mlast\u001b[0m\u001b[0;34m)\u001b[0m \u001b[0;34m+\u001b[0m \u001b[0;34m' sentences! You have finished '\u001b[0m \u001b[0;34m+\u001b[0m \u001b[0mstr\u001b[0m\u001b[0;34m(\u001b[0m\u001b[0mpercentage\u001b[0m\u001b[0;34m)\u001b[0m \u001b[0;34m+\u001b[0m \u001b[0;34m'% of all the sentences!'\u001b[0m\u001b[0;34m)\u001b[0m\u001b[0;34m\u001b[0m\u001b[0m\n\u001b[1;32m      9\u001b[0m \u001b[0;34m\u001b[0m\u001b[0m\n",
      "\u001b[0;31mNameError\u001b[0m: global name 'math' is not defined"
     ]
    }
   ],
   "source": [
    "checkPoint = 10350\n",
    "pickle.dump (checkPoint, open ( \"judgerCheckPoint.p\", \"wb\") )\n",
    "\n",
    "judger_tips = []\n",
    "pickle.dump (judger_tips, open ( \"judger_tips.p\", \"wb\") )\n",
    "judger_selection()"
   ]
  },
  {
   "cell_type": "code",
   "execution_count": null,
   "metadata": {
    "collapsed": true
   },
   "outputs": [],
   "source": []
  }
 ],
 "metadata": {
  "kernelspec": {
   "display_name": "Python 2",
   "language": "python",
   "name": "python2"
  },
  "language_info": {
   "codemirror_mode": {
    "name": "ipython",
    "version": 2
   },
   "file_extension": ".py",
   "mimetype": "text/x-python",
   "name": "python",
   "nbconvert_exporter": "python",
   "pygments_lexer": "ipython2",
   "version": "2.7.9"
  }
 },
 "nbformat": 4,
 "nbformat_minor": 0
}
