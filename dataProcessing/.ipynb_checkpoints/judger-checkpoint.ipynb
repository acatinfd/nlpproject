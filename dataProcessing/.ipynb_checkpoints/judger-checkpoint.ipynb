{
 "cells": [
  {
   "cell_type": "code",
   "execution_count": 2,
   "metadata": {
    "collapsed": true
   },
   "outputs": [],
   "source": [
    "import pickle\n",
    "import nltk\n",
    "\n",
    "test_set = pickle.load ( open ( \"../../saveReviewTestSet.p\", \"rb\") )"
   ]
  },
  {
   "cell_type": "code",
   "execution_count": 4,
   "metadata": {
    "collapsed": false
   },
   "outputs": [
    {
     "name": "stdout",
     "output_type": "stream",
     "text": [
      "('sentence list: ', 10351)\n",
      "('sorted: ', 10351)\n"
     ]
    }
   ],
   "source": [
    "sentence_list = []\n",
    "\n",
    "for business in test_set:\n",
    "    for review in business['reviews']:\n",
    "        sentences = nltk.sent_tokenize(review['text'].lower())\n",
    "        \n",
    "        k = 0\n",
    "        for sentence in sentences:\n",
    "            sentence_list.append((review['review_id'], k, sentence) )\n",
    "            k += 1\n",
    "\n",
    "sortedSentenceList = sorted(sentence_list, key = lambda p: p[0])\n",
    "pickle.dump (sortedSentenceList, open ( \"judgerTestSet.p\", \"wb\") )\n",
    "        \n",
    "print (\"sentence list: \", len(sentence_list) )\n",
    "print ('sorted: ', len(sortedSentenceList))"
   ]
  },
  {
   "cell_type": "code",
   "execution_count": 9,
   "metadata": {
    "collapsed": false
   },
   "outputs": [],
   "source": [
    "checkPoint = 0\n",
    "pickle.dump (checkPoint, open ( \"judgerCheckPoint.p\", \"wb\") )"
   ]
  },
  {
   "cell_type": "code",
   "execution_count": 16,
   "metadata": {
    "collapsed": false
   },
   "outputs": [],
   "source": [
    "def currentProcess(last, total):\n",
    "    if last >= total:\n",
    "        print \"Congratulations! You have finished all the sentences!\"\n",
    "        anw = input('Press any key to leave: ')\n",
    "        return\n",
    "    \n",
    "    percentage = last/total*100\n",
    "    print ('You have finished ' + str(percentage) + '% of all the sentences!')\n",
    "    \n",
    "def judge(lastPoint, stopPoint, sortedSentenceList, judger_tips):  \n",
    "      \n",
    "    print ('Please finish the following 100 reviews before you take a break.')\n",
    "    print ('For each sentence, enter \\'1\\' if it is a tip, enter \\'0\\' elsewise.')\n",
    "    \n",
    "    k = lastPoint\n",
    "    while k < stopPoint:\n",
    "        isTip = int(input((str(k) + ':' + sortedSentenceList[k][2])))\n",
    "        while not (isTip == 1 or isTip == 0):\n",
    "            isTip = int(input('Invalid input. Try again.'))\n",
    "        \n",
    "        if isTip:\n",
    "            judger_tips.append((sortedSentenceList[k]))\n",
    "        k += 1\n",
    "    \n",
    "    currentProcess(lastPoint, total)\n",
    "    toContinue = input('Continue? enter \\'y\\' to continue, enter \\'n\\' elsewise')\n",
    "    while not (toContinue in ['y', 'Y', 'N', 'n']):\n",
    "        toContinue = input('Invalid input. Try again.')\n",
    "\n",
    "    pickle.dump (judger_tips, open ( \"judger_tips.p\", \"wb\") )\n",
    "    if toContinue == 'y' or toContinue == 'Y':\n",
    "        return True\n",
    "    else:\n",
    "        return False\n",
    "\n",
    "def judger_selection():\n",
    "    #pre-setup\n",
    "    sortedSentenceList = pickle.load ( open ( \"judgerTestSet.p\", \"rb\") )\n",
    "    total = len(sortedSentenceList)\n",
    "    if total == 0:\n",
    "        print ('Error: empty file')\n",
    "        return\n",
    "    \n",
    "    lastPoint = pickle.load( open (\"judgerCheckPoint.p\", \"rb\") )\n",
    "    \n",
    "    stopPoint = min(lastPoint + 100, total)\n",
    "    while lastPoint < total:\n",
    "        currentProcess(lastPoint, total)  \n",
    "        judger_tips = pickle.load ( open ( \"judger_tips.p\", \"rb\") )\n",
    "        toContinue = judge(lastPoint, stopPoint, sortedSentenceList, judger_tips)\n",
    "        if toContinue:\n",
    "            lastPoint = stopPoint\n",
    "            stopPoint = min(lastPoint + 100, total)\n",
    "        else:\n",
    "            break"
   ]
  },
  {
   "cell_type": "code",
   "execution_count": 17,
   "metadata": {
    "collapsed": false
   },
   "outputs": [
    {
     "name": "stdout",
     "output_type": "stream",
     "text": [
      "You have finished0% of all the sentences!\n",
      "Please finish the following 100 reviews before you take a break.\n",
      "For each sentence, enter '1' if it is a tip, enter '0' elsewise.\n",
      "0:after all the hubub about this new chinese restaurant, my boyfriend and i knew we had to try it!n\n"
     ]
    },
    {
     "ename": "NameError",
     "evalue": "name 'n' is not defined",
     "output_type": "error",
     "traceback": [
      "\u001b[0;31m---------------------------------------------------------------------------\u001b[0m",
      "\u001b[0;31mNameError\u001b[0m                                 Traceback (most recent call last)",
      "\u001b[0;32m<ipython-input-17-dd29f7e11101>\u001b[0m in \u001b[0;36m<module>\u001b[0;34m()\u001b[0m\n\u001b[1;32m      2\u001b[0m \u001b[0mpickle\u001b[0m\u001b[0;34m.\u001b[0m\u001b[0mdump\u001b[0m \u001b[0;34m(\u001b[0m\u001b[0mjudger_tips\u001b[0m\u001b[0;34m,\u001b[0m \u001b[0mopen\u001b[0m \u001b[0;34m(\u001b[0m \u001b[0;34m\"judger_tips.p\"\u001b[0m\u001b[0;34m,\u001b[0m \u001b[0;34m\"wb\"\u001b[0m\u001b[0;34m)\u001b[0m \u001b[0;34m)\u001b[0m\u001b[0;34m\u001b[0m\u001b[0m\n\u001b[1;32m      3\u001b[0m \u001b[0;34m\u001b[0m\u001b[0m\n\u001b[0;32m----> 4\u001b[0;31m \u001b[0mjudger_selection\u001b[0m\u001b[0;34m(\u001b[0m\u001b[0;34m)\u001b[0m\u001b[0;34m\u001b[0m\u001b[0m\n\u001b[0m",
      "\u001b[0;32m<ipython-input-16-62eb9031642e>\u001b[0m in \u001b[0;36mjudger_selection\u001b[0;34m()\u001b[0m\n\u001b[1;32m     48\u001b[0m         \u001b[0mcurrentProcess\u001b[0m\u001b[0;34m(\u001b[0m\u001b[0mlastPoint\u001b[0m\u001b[0;34m,\u001b[0m \u001b[0mtotal\u001b[0m\u001b[0;34m)\u001b[0m\u001b[0;34m\u001b[0m\u001b[0m\n\u001b[1;32m     49\u001b[0m         \u001b[0mjudger_tips\u001b[0m \u001b[0;34m=\u001b[0m \u001b[0mpickle\u001b[0m\u001b[0;34m.\u001b[0m\u001b[0mload\u001b[0m \u001b[0;34m(\u001b[0m \u001b[0mopen\u001b[0m \u001b[0;34m(\u001b[0m \u001b[0;34m\"judger_tips.p\"\u001b[0m\u001b[0;34m,\u001b[0m \u001b[0;34m\"rb\"\u001b[0m\u001b[0;34m)\u001b[0m \u001b[0;34m)\u001b[0m\u001b[0;34m\u001b[0m\u001b[0m\n\u001b[0;32m---> 50\u001b[0;31m         \u001b[0mtoContinue\u001b[0m \u001b[0;34m=\u001b[0m \u001b[0mjudge\u001b[0m\u001b[0;34m(\u001b[0m\u001b[0mlastPoint\u001b[0m\u001b[0;34m,\u001b[0m \u001b[0mstopPoint\u001b[0m\u001b[0;34m,\u001b[0m \u001b[0msortedSentenceList\u001b[0m\u001b[0;34m,\u001b[0m \u001b[0mjudger_tips\u001b[0m\u001b[0;34m)\u001b[0m\u001b[0;34m\u001b[0m\u001b[0m\n\u001b[0m\u001b[1;32m     51\u001b[0m         \u001b[0;32mif\u001b[0m \u001b[0mtoContinue\u001b[0m\u001b[0;34m:\u001b[0m\u001b[0;34m\u001b[0m\u001b[0m\n\u001b[1;32m     52\u001b[0m             \u001b[0mlastPoint\u001b[0m \u001b[0;34m=\u001b[0m \u001b[0mstopPoint\u001b[0m\u001b[0;34m\u001b[0m\u001b[0m\n",
      "\u001b[0;32m<ipython-input-16-62eb9031642e>\u001b[0m in \u001b[0;36mjudge\u001b[0;34m(lastPoint, stopPoint, sortedSentenceList, judger_tips)\u001b[0m\n\u001b[1;32m     15\u001b[0m     \u001b[0mk\u001b[0m \u001b[0;34m=\u001b[0m \u001b[0mlastPoint\u001b[0m\u001b[0;34m\u001b[0m\u001b[0m\n\u001b[1;32m     16\u001b[0m     \u001b[0;32mwhile\u001b[0m \u001b[0mk\u001b[0m \u001b[0;34m<\u001b[0m \u001b[0mstopPoint\u001b[0m\u001b[0;34m:\u001b[0m\u001b[0;34m\u001b[0m\u001b[0m\n\u001b[0;32m---> 17\u001b[0;31m         \u001b[0misTip\u001b[0m \u001b[0;34m=\u001b[0m \u001b[0mint\u001b[0m\u001b[0;34m(\u001b[0m\u001b[0minput\u001b[0m\u001b[0;34m(\u001b[0m\u001b[0;34m(\u001b[0m\u001b[0mstr\u001b[0m\u001b[0;34m(\u001b[0m\u001b[0mk\u001b[0m\u001b[0;34m)\u001b[0m \u001b[0;34m+\u001b[0m \u001b[0;34m':'\u001b[0m \u001b[0;34m+\u001b[0m \u001b[0msortedSentenceList\u001b[0m\u001b[0;34m[\u001b[0m\u001b[0mk\u001b[0m\u001b[0;34m]\u001b[0m\u001b[0;34m[\u001b[0m\u001b[0;36m2\u001b[0m\u001b[0;34m]\u001b[0m\u001b[0;34m)\u001b[0m\u001b[0;34m)\u001b[0m\u001b[0;34m)\u001b[0m\u001b[0;34m\u001b[0m\u001b[0m\n\u001b[0m\u001b[1;32m     18\u001b[0m         \u001b[0;32mwhile\u001b[0m \u001b[0;32mnot\u001b[0m \u001b[0;34m(\u001b[0m\u001b[0misTip\u001b[0m \u001b[0;34m==\u001b[0m \u001b[0;36m1\u001b[0m \u001b[0;32mor\u001b[0m \u001b[0misTip\u001b[0m \u001b[0;34m==\u001b[0m \u001b[0;36m0\u001b[0m\u001b[0;34m)\u001b[0m\u001b[0;34m:\u001b[0m\u001b[0;34m\u001b[0m\u001b[0m\n\u001b[1;32m     19\u001b[0m             \u001b[0misTip\u001b[0m \u001b[0;34m=\u001b[0m \u001b[0mint\u001b[0m\u001b[0;34m(\u001b[0m\u001b[0minput\u001b[0m\u001b[0;34m(\u001b[0m\u001b[0;34m'Invalid input. Try again.'\u001b[0m\u001b[0;34m)\u001b[0m\u001b[0;34m)\u001b[0m\u001b[0;34m\u001b[0m\u001b[0m\n",
      "\u001b[0;32m/Library/Frameworks/Python.framework/Versions/2.7/lib/python2.7/site-packages/IPython/kernel/zmq/ipkernel.pyc\u001b[0m in \u001b[0;36m<lambda>\u001b[0;34m(prompt)\u001b[0m\n\u001b[1;32m    145\u001b[0m             \u001b[0mself\u001b[0m\u001b[0;34m.\u001b[0m\u001b[0m_sys_eval_input\u001b[0m \u001b[0;34m=\u001b[0m \u001b[0mbuiltin_mod\u001b[0m\u001b[0;34m.\u001b[0m\u001b[0minput\u001b[0m\u001b[0;34m\u001b[0m\u001b[0m\n\u001b[1;32m    146\u001b[0m             \u001b[0mbuiltin_mod\u001b[0m\u001b[0;34m.\u001b[0m\u001b[0mraw_input\u001b[0m \u001b[0;34m=\u001b[0m \u001b[0mself\u001b[0m\u001b[0;34m.\u001b[0m\u001b[0mraw_input\u001b[0m\u001b[0;34m\u001b[0m\u001b[0m\n\u001b[0;32m--> 147\u001b[0;31m             \u001b[0mbuiltin_mod\u001b[0m\u001b[0;34m.\u001b[0m\u001b[0minput\u001b[0m \u001b[0;34m=\u001b[0m \u001b[0;32mlambda\u001b[0m \u001b[0mprompt\u001b[0m\u001b[0;34m=\u001b[0m\u001b[0;34m''\u001b[0m\u001b[0;34m:\u001b[0m \u001b[0meval\u001b[0m\u001b[0;34m(\u001b[0m\u001b[0mself\u001b[0m\u001b[0;34m.\u001b[0m\u001b[0mraw_input\u001b[0m\u001b[0;34m(\u001b[0m\u001b[0mprompt\u001b[0m\u001b[0;34m)\u001b[0m\u001b[0;34m)\u001b[0m\u001b[0;34m\u001b[0m\u001b[0m\n\u001b[0m\u001b[1;32m    148\u001b[0m         \u001b[0mself\u001b[0m\u001b[0;34m.\u001b[0m\u001b[0m_save_getpass\u001b[0m \u001b[0;34m=\u001b[0m \u001b[0mgetpass\u001b[0m\u001b[0;34m.\u001b[0m\u001b[0mgetpass\u001b[0m\u001b[0;34m\u001b[0m\u001b[0m\n\u001b[1;32m    149\u001b[0m         \u001b[0mgetpass\u001b[0m\u001b[0;34m.\u001b[0m\u001b[0mgetpass\u001b[0m \u001b[0;34m=\u001b[0m \u001b[0mself\u001b[0m\u001b[0;34m.\u001b[0m\u001b[0mgetpass\u001b[0m\u001b[0;34m\u001b[0m\u001b[0m\n",
      "\u001b[0;32m/Library/Frameworks/Python.framework/Versions/2.7/lib/python2.7/site-packages/IPython/kernel/zmq/ipkernel.pyc\u001b[0m in \u001b[0;36m<module>\u001b[0;34m()\u001b[0m\n",
      "\u001b[0;31mNameError\u001b[0m: name 'n' is not defined"
     ]
    }
   ],
   "source": [
    "judger_tips = []\n",
    "pickle.dump (judger_tips, open ( \"judger_tips.p\", \"wb\") )\n",
    "\n",
    "judger_selection()"
   ]
  },
  {
   "cell_type": "code",
   "execution_count": 24,
   "metadata": {
    "collapsed": false
   },
   "outputs": [
    {
     "name": "stdout",
     "output_type": "stream",
     "text": [
      "Continue? enter 'y' to continue, enter 'n' elsewise \n",
      "9\n"
     ]
    },
    {
     "data": {
      "text/plain": [
       "0"
      ]
     },
     "execution_count": 24,
     "metadata": {},
     "output_type": "execute_result"
    }
   ],
   "source": [
    "        toContinue = raw_input('Continue? enter \\'y\\' to continue, enter \\'n\\' elsewise \\n')\n",
    "        type(toContinue)\n",
    "        while not (toContinue in ['y', 'Y', 'N', 'n']):\n",
    "            toContinue = input('Invalid input. Try again.')\n",
    "        if toContinue in ['Y', 'y']:\n",
    "            x = 1\n",
    "        else:\n",
    "            x = 0\n",
    "        x"
   ]
  },
  {
   "cell_type": "code",
   "execution_count": null,
   "metadata": {
    "collapsed": true
   },
   "outputs": [],
   "source": []
  }
 ],
 "metadata": {
  "kernelspec": {
   "display_name": "Python 2",
   "language": "python",
   "name": "python2"
  },
  "language_info": {
   "codemirror_mode": {
    "name": "ipython",
    "version": 2
   },
   "file_extension": ".py",
   "mimetype": "text/x-python",
   "name": "python",
   "nbconvert_exporter": "python",
   "pygments_lexer": "ipython2",
   "version": "2.7.9"
  }
 },
 "nbformat": 4,
 "nbformat_minor": 0
}
