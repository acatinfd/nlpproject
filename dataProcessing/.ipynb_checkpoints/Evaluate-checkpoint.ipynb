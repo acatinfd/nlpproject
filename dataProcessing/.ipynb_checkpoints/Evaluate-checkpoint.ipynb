{
 "cells": [
  {
   "cell_type": "code",
   "execution_count": 4,
   "metadata": {
    "collapsed": false
   },
   "outputs": [
    {
     "name": "stdout",
     "output_type": "stream",
     "text": [
      "3477\n"
     ]
    }
   ],
   "source": [
    "import pickle\n",
    "\n",
    "result_lda = {}\n",
    "with open(\"test_rst.json\") as f:\n",
    "    for raw in f:\n",
    "        raw = raw.replace('true', 'True').replace('false', 'False')\n",
    "        b = eval(raw)\n",
    "        if b['tip']:\n",
    "            result_lda[str(b['reviewId']) + str(b['sentencesId'])] = b['tip']\n",
    "\n",
    "print (len(result_lda))"
   ]
  },
  {
   "cell_type": "code",
   "execution_count": 5,
   "metadata": {
    "collapsed": true
   },
   "outputs": [],
   "source": [
    "result_j1 = pickle.load( open( \"judger_tips_x.p\", \"rb\") )\n",
    "sortedSentenceList1 = pickle.load ( open ( \"judgerTestSet.p\", \"rb\") )\n",
    "sortedSentenceList = sortedSentenceList1[:2000]\n",
    "pickle.dump(sortedSentenceList, open( \"smallTestSet.p\", \"wb\") )"
   ]
  },
  {
   "cell_type": "code",
   "execution_count": 6,
   "metadata": {
    "collapsed": false
   },
   "outputs": [
    {
     "name": "stdout",
     "output_type": "stream",
     "text": [
      "('precision = ', '0.50700280112')\n",
      "('recall = ', '0.4')\n"
     ]
    }
   ],
   "source": [
    "#evaluate the result by judger vs result by lda\n",
    "truePos = 0\n",
    "Pos = len(result_j1)\n",
    "Pos_lda = 0\n",
    "\n",
    "for res in result_j1:\n",
    "    res_id = str(res[0]) + str(res[1])\n",
    "    if res_id in result_lda:\n",
    "        truePos += 1\n",
    " \n",
    "for sen in sortedSentenceList:\n",
    "    sen_id = str(sen[0]) + str(sen[1])\n",
    "    if sen_id in result_lda:\n",
    "        Pos_lda += 1\n",
    "    \n",
    "print (\"precision = \", str(float(truePos*1.0/Pos_lda) ) )\n",
    "print (\"recall = \", str(float(truePos*1.0/Pos) ) )\n"
   ]
  },
  {
   "cell_type": "code",
   "execution_count": 9,
   "metadata": {
    "collapsed": false
   },
   "outputs": [
    {
     "name": "stdout",
     "output_type": "stream",
     "text": [
      "('Random: precision = ', '0.496132596685')\n",
      "('Random: recall = ', '0.496132596685')\n"
     ]
    }
   ],
   "source": [
    "#evaluate the result by judger vs result by random\n",
    "truePosR = 0\n",
    "Pos_random = 0\n",
    "random = pickle.load( open( \"random.p\", \"rb\") )\n",
    "result_ran = {}\n",
    "\n",
    "#build a dictionary\n",
    "for res in random:\n",
    "    result_ran[str(res[0] + str(res[1]))] = True\n",
    "\n",
    "for res in result_j1:\n",
    "    res_id = str(res[0]) + str(res[1])\n",
    "    if res_id in result_ran:\n",
    "        truePosR += 1\n",
    "\n",
    "print (\"Random: precision = \", str(float(truePosR*1.0/Pos) ) )\n",
    "print (\"Random: recall = \", str(float(truePosR*1.0/Pos) ) )\n",
    "\n",
    "\n"
   ]
  },
  {
   "cell_type": "code",
   "execution_count": null,
   "metadata": {
    "collapsed": true
   },
   "outputs": [],
   "source": [
    "#evaluate the result by judger vs result by maxLeng\n",
    "truePosMax = 0\n",
    "Pos_max = 0\n",
    "maxLen = pickle.load( open( \"maxLen.p\", \"rb\") )\n",
    "result_max = {}\n",
    "\n",
    "#build a dictionary\n",
    "for res in maxLen:\n",
    "    result_max[str(res[0] + str(res[1]))] = True\n",
    "\n",
    "for res in result_j1:\n",
    "    res_id = str(res[0]) + str(res[1])\n",
    "    if res_id in result_max:\n",
    "        truePosMax += 1\n",
    "\n",
    "print (\"Random: precision = \", str(float(truePosMax*1.0/Pos) ) )\n",
    "print (\"Random: recall = \", str(float(truePosMax*1.0/Pos) ) )\n",
    "\n"
   ]
  }
 ],
 "metadata": {
  "kernelspec": {
   "display_name": "Python 2",
   "language": "python",
   "name": "python2"
  },
  "language_info": {
   "codemirror_mode": {
    "name": "ipython",
    "version": 2
   },
   "file_extension": ".py",
   "mimetype": "text/x-python",
   "name": "python",
   "nbconvert_exporter": "python",
   "pygments_lexer": "ipython2",
   "version": "2.7.9"
  }
 },
 "nbformat": 4,
 "nbformat_minor": 0
}
