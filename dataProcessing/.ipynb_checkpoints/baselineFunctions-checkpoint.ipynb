{
 "cells": [
  {
   "cell_type": "code",
   "execution_count": 1,
   "metadata": {
    "collapsed": true
   },
   "outputs": [],
   "source": [
    "import pickle\n",
    "\n",
    "test_set = pickle.load ( open ( \"../../saveReviewTestSet.p\", \"rb\") )"
   ]
  },
  {
   "cell_type": "code",
   "execution_count": 17,
   "metadata": {
    "collapsed": false
   },
   "outputs": [
    {
     "name": "stdout",
     "output_type": "stream",
     "text": [
      "('count: ', 10351)\n"
     ]
    }
   ],
   "source": [
    "import nltk\n",
    "\n",
    "sentence_list = []\n",
    "count = 0\n",
    "\n",
    "for business in test_set:\n",
    "    for review in business['reviews']:\n",
    "        sentences = nltk.sent_tokenize(review['text'].lower())\n",
    "        count += len(sentences)\n",
    "        k = 0\n",
    "        for sentence in sentences:\n",
    "            sentence_list.append((review['review_id'], k, sentence) )\n",
    "            k += 1\n",
    "        \n",
    "len(sentence_list)\n",
    "print (\"sentence list: \", len(sentence_list) )\n",
    "print ('count: ', count)"
   ]
  },
  {
   "cell_type": "code",
   "execution_count": 21,
   "metadata": {
    "collapsed": false
   },
   "outputs": [
    {
     "name": "stdout",
     "output_type": "stream",
     "text": [
      "(682, \"oh so my first time here and i was starving upon arrival so i ordered the platter for app and raw filet mignon with quail egg... the platter consisted of fried frog legs, a big crab cake in center, friend shrimp and scallops (i think) it was soo much but i was hungry so as a entree i ordered stuffed lobster which i did not eat all but it was good, i was really stuffed, i can't do all the fried food, it irritates my stomach so the platter wasn't a good choice but if was not nasty, quite good.. i went luton the rooftop where the view was beautiful and they had a zip line there which i didn't get on due to dear if heights but my tummy was satisfied but def over priced in a way\")\n",
      "(663, \"i went out for the evening with my cousin since the place that she had a groupon for was completely slammed last night...  we hemmed, hawed and finally decided on ri ra... \\n\\nmy experience was solid...  our bartender michael was an absolute delight... he was attentive and offered suggestions...  since i already had dinner for the night, i wasn't very hungry, but i was interested in trying something... i decided on the potato and leek soup, which was incredibly creamy and delicious...  for drinks, i had the jameson rose (which was a vibrant pink... i don't know why that surprised me as much as it did, but it was pretty cool... lol) and a beer flight for $6.\")\n",
      "(644, 'we had\\\\uff1a\\nappetizers:\\nchengdu clear noodles\\\\uff08\\\\u6210\\\\u90fd\\\\u51c9\\\\u7c89\\\\uff09\\nscallion pancakes\\\\u3000\\\\uff08\\\\u8471\\\\u6cb9\\\\u997c\\\\uff09\\n\\nmain courses:\\nbraised duck with scallion\\\\uff08\\\\u4eac\\\\u8471\\\\u6252\\\\u9e2d\\\\uff09\\nfire pot with pork intestine and hot sauce\\\\uff08\\\\u5e72\\\\u9505\\\\u80a5\\\\u80a0\\\\uff09\\nsteam fish with pickled peppers in hunan style (\\\\u8dfa\\\\u6912\\\\u5168\\\\u9c7c\\\\uff09\\ncelery fried with dry tofu and peppers (\\\\u5c0f\\\\u6912\\\\u9999\\\\u5e72\\\\u7092\\\\u82b9\\\\u83dc\\\\uff09\\n\\nthe braised duck with scallion\\\\uff08\\\\u4eac\\\\u8471\\\\u6252\\\\u9e2d\\\\uff09 and the steam fish with pickled peppers in hunan style (\\\\u8dfa\\\\u6912\\\\u5168\\\\u9c7c\\\\uff09 were really the highlights.')\n",
      "(559, '= = = = = =\\n\\nmade it back up here today, joined this time by mike c. and jackie r.  they had a big selection of about 90 items out on the buffet this time, including tender roast beef, jerk chicken, talalpia in a sauce, breaded, fried catfish (both fishes mild and tasty), 3 soups including great vegetable beef with big cubes of tender meat, lots of salad goodies including good cottage cheese, swiss steak, tasty chicken breasts in a sauce, macaroni & cheese, & much more, plus plenty of desserts including chocolate tarts and really good coconut cream pie.')\n",
      "(549, \"what i really liked about this sisig was that it was on a sizzling platter so the bottom of the sisig was nice and crispy by the time we were done...i would've sat there and scraped everything off if i could but plastic utensils don't work as well for that...\\n\\noh yeah, speaking of- they give us plastic utensils and styrofoam plates...oh well, they did have a buffet but i'm not down with that...overall, it's definitely a place to revisit since it's up close to anthem and we don't have to drive all the way to chinatown for sisig or spicy shrimp!\")\n",
      "(502, \"dishes that separate tarbell's from others:\\n\\n soups to die for\\n caesar the way it was meant to taste\\n pommes frites as heavenly as any in paris or \\n                                     brussels\\n sliders to crave many days after\\n scotch beef i continue to dream about\\n pan roasted chicken - i never order chicken in a \\n                                     restaurant, except here\\n mac & cheese good enough for dessert\\n\\nif this isn't five star in phoenix, i can't imagine what is, but i want to go there!\")\n",
      "(458, 'it comes with peanut sauce and cucumber dip which is not actually dip, it\\'s yummy pickled cucumber slices in this ridiculous somewhat sweet sauce that may entice you lick the bowl and ask for more...  \\n\\nsoups; their koew num (wonton) soup is good however i suggest going for the tom ka gai which is a hot/sour soup with chicken, lemon grass, mushrooms, something else not sure what is but taste good in a coconut milk broth served in a \"flaming soup tureen\".')\n",
      "(421, \"my cousin thoroughly enjoyed her nachos, but she sent back a cocktail... she apparently ordered a drink that no one ever asks for because michael had to check the menu to remember how to make it... it didn't sound like it would taste great from the description and my cousin is ultra picky, so i don't fault him at all... lol\\n\\noverall, i had a fabulous time at ri ra... i might have to start going out a bit more often...\")\n",
      "(386, \"yes, it was starting to get crowded, but it seemed like our server favored certain groups of people - maybe an assumption on my part, but it was based on attire and maybe how much tip she would anticipate getting from the group.... later when we were all ready to go a close our tabs, we basically had to recite our drink orders to her since she didn't even bother to keep track for us.\")\n",
      "(380, 'i sat in the comfy large booth and shared the chopped salad (beautifully packed with colors of grilled chicken, diced cucumbers, sliced red bell peppers, bacon, mixed greens, corn, and pork bits) and the pink pony burger (website description: wi cheddar, crispy pork belly, avocado, garlic aioli, slow roasted tomato, bibb lettuce and butter bun - minus the fried egg) with fries.')\n"
     ]
    },
    {
     "data": {
      "text/plain": [
       "[('RkV23OvfxTEjtMuSDH7_XQ',\n",
       "  0,\n",
       "  \"oh so my first time here and i was starving upon arrival so i ordered the platter for app and raw filet mignon with quail egg... the platter consisted of fried frog legs, a big crab cake in center, friend shrimp and scallops (i think) it was soo much but i was hungry so as a entree i ordered stuffed lobster which i did not eat all but it was good, i was really stuffed, i can't do all the fried food, it irritates my stomach so the platter wasn't a good choice but if was not nasty, quite good.. i went luton the rooftop where the view was beautiful and they had a zip line there which i didn't get on due to dear if heights but my tummy was satisfied but def over priced in a way\"),\n",
       " ('UlNlpu0lSuJ5rkJ9DK68Jw',\n",
       "  0,\n",
       "  \"i went out for the evening with my cousin since the place that she had a groupon for was completely slammed last night...  we hemmed, hawed and finally decided on ri ra... \\n\\nmy experience was solid...  our bartender michael was an absolute delight... he was attentive and offered suggestions...  since i already had dinner for the night, i wasn't very hungry, but i was interested in trying something... i decided on the potato and leek soup, which was incredibly creamy and delicious...  for drinks, i had the jameson rose (which was a vibrant pink... i don't know why that surprised me as much as it did, but it was pretty cool... lol) and a beer flight for $6.\"),\n",
       " ('-YkjJlyx1-sG4C6x7Xy3Iw',\n",
       "  6,\n",
       "  'we had\\\\uff1a\\nappetizers:\\nchengdu clear noodles\\\\uff08\\\\u6210\\\\u90fd\\\\u51c9\\\\u7c89\\\\uff09\\nscallion pancakes\\\\u3000\\\\uff08\\\\u8471\\\\u6cb9\\\\u997c\\\\uff09\\n\\nmain courses:\\nbraised duck with scallion\\\\uff08\\\\u4eac\\\\u8471\\\\u6252\\\\u9e2d\\\\uff09\\nfire pot with pork intestine and hot sauce\\\\uff08\\\\u5e72\\\\u9505\\\\u80a5\\\\u80a0\\\\uff09\\nsteam fish with pickled peppers in hunan style (\\\\u8dfa\\\\u6912\\\\u5168\\\\u9c7c\\\\uff09\\ncelery fried with dry tofu and peppers (\\\\u5c0f\\\\u6912\\\\u9999\\\\u5e72\\\\u7092\\\\u82b9\\\\u83dc\\\\uff09\\n\\nthe braised duck with scallion\\\\uff08\\\\u4eac\\\\u8471\\\\u6252\\\\u9e2d\\\\uff09 and the steam fish with pickled peppers in hunan style (\\\\u8dfa\\\\u6912\\\\u5168\\\\u9c7c\\\\uff09 were really the highlights.'),\n",
       " ('Pa0xouPg6bk_Lc1epD3nLg',\n",
       "  1,\n",
       "  '= = = = = =\\n\\nmade it back up here today, joined this time by mike c. and jackie r.  they had a big selection of about 90 items out on the buffet this time, including tender roast beef, jerk chicken, talalpia in a sauce, breaded, fried catfish (both fishes mild and tasty), 3 soups including great vegetable beef with big cubes of tender meat, lots of salad goodies including good cottage cheese, swiss steak, tasty chicken breasts in a sauce, macaroni & cheese, & much more, plus plenty of desserts including chocolate tarts and really good coconut cream pie.'),\n",
       " ('f4tseiUzBic3-MjAMFnu1Q',\n",
       "  6,\n",
       "  \"what i really liked about this sisig was that it was on a sizzling platter so the bottom of the sisig was nice and crispy by the time we were done...i would've sat there and scraped everything off if i could but plastic utensils don't work as well for that...\\n\\noh yeah, speaking of- they give us plastic utensils and styrofoam plates...oh well, they did have a buffet but i'm not down with that...overall, it's definitely a place to revisit since it's up close to anthem and we don't have to drive all the way to chinatown for sisig or spicy shrimp!\"),\n",
       " ('Ie4ZrI_rMaWfKvoaC-AuEg',\n",
       "  1,\n",
       "  \"dishes that separate tarbell's from others:\\n\\n soups to die for\\n caesar the way it was meant to taste\\n pommes frites as heavenly as any in paris or \\n                                     brussels\\n sliders to crave many days after\\n scotch beef i continue to dream about\\n pan roasted chicken - i never order chicken in a \\n                                     restaurant, except here\\n mac & cheese good enough for dessert\\n\\nif this isn't five star in phoenix, i can't imagine what is, but i want to go there!\"),\n",
       " ('I6vbgBGARua2KYTLQQFIzg',\n",
       "  2,\n",
       "  'it comes with peanut sauce and cucumber dip which is not actually dip, it\\'s yummy pickled cucumber slices in this ridiculous somewhat sweet sauce that may entice you lick the bowl and ask for more...  \\n\\nsoups; their koew num (wonton) soup is good however i suggest going for the tom ka gai which is a hot/sour soup with chicken, lemon grass, mushrooms, something else not sure what is but taste good in a coconut milk broth served in a \"flaming soup tureen\".'),\n",
       " ('UlNlpu0lSuJ5rkJ9DK68Jw',\n",
       "  2,\n",
       "  \"my cousin thoroughly enjoyed her nachos, but she sent back a cocktail... she apparently ordered a drink that no one ever asks for because michael had to check the menu to remember how to make it... it didn't sound like it would taste great from the description and my cousin is ultra picky, so i don't fault him at all... lol\\n\\noverall, i had a fabulous time at ri ra... i might have to start going out a bit more often...\"),\n",
       " ('XwGLgmsEsBRstP3mx7_CUw',\n",
       "  3,\n",
       "  \"yes, it was starting to get crowded, but it seemed like our server favored certain groups of people - maybe an assumption on my part, but it was based on attire and maybe how much tip she would anticipate getting from the group.... later when we were all ready to go a close our tabs, we basically had to recite our drink orders to her since she didn't even bother to keep track for us.\"),\n",
       " ('akPZtzlwK_DBwPyudQVgdA',\n",
       "  1,\n",
       "  'i sat in the comfy large booth and shared the chopped salad (beautifully packed with colors of grilled chicken, diced cucumbers, sliced red bell peppers, bacon, mixed greens, corn, and pork bits) and the pink pony burger (website description: wi cheddar, crispy pork belly, avocado, garlic aioli, slow roasted tomato, bibb lettuce and butter bun - minus the fried egg) with fries.')]"
      ]
     },
     "execution_count": 21,
     "metadata": {},
     "output_type": "execute_result"
    }
   ],
   "source": [
    "def maxLength_selection(sentence_list, tipNum):\n",
    "    sortedReviews = sorted(sentence_list, key = lambda p: len(p[2]))\n",
    "    totalLen = len(sortedReviews)\n",
    "    \n",
    "    maxLengthSentences = []\n",
    "    for i in range(tipNum):\n",
    "        maxLengthSentences.append(sortedReviews[totalLen - i - 1])\n",
    "        print (len(sortedReviews[totalLen - i - 1][2]), sortedReviews[totalLen - i - 1][2])\n",
    "    \n",
    "    return maxLengthSentences\n",
    "\n",
    "maxLength_selection(sentence_list, 10)"
   ]
  },
  {
   "cell_type": "code",
   "execution_count": 23,
   "metadata": {
    "collapsed": false
   },
   "outputs": [
    {
     "data": {
      "text/plain": [
       "[('HvWUJ8UrGKVoh2hfmTqdkQ',\n",
       "  16,\n",
       "  'in fact, one was ridiculously dark brown-- visibly over-fried.'),\n",
       " ('XGB8nST1XKNvLTIL0Nq0AA', 6, 'we will be back.'),\n",
       " ('CQuTn_uqW9MAZ0JyFOLrzA',\n",
       "  4,\n",
       "  \"the prices are a little off to me, but i guess you're in the city maybe that's how it goes.\"),\n",
       " ('EYfwfGpG4Fr3rdf2NZrD8A',\n",
       "  7,\n",
       "  'the chicken curry (i guess it was chilly chicken) could have been better.'),\n",
       " ('OovS9oKgGaZKhtr14Brazg',\n",
       "  6,\n",
       "  'the fox family farms red wine was a good compliment to the meal.'),\n",
       " ('RPPjdU9ROJE6daditFL6OA', 18, 'message taken.'),\n",
       " ('3q68-kr8ivTPMGfPGKYm5w',\n",
       "  23,\n",
       "  'even got to hop out on to the patio and it was really nice, small breeze and perfect for some photos of the city.'),\n",
       " ('13VXiLU1IWao3MU-Fp3h6Q',\n",
       "  6,\n",
       "  'the waiter came back apologizing saying that we were served frozen crawfish.'),\n",
       " ('M7Pq2dTVXIierjaL2kvSUA',\n",
       "  1,\n",
       "  'recently hit vegas with 6 other couples, and we wanted to go out for a special dinner after a sat.'),\n",
       " ('niPeQPWLzUJD8ob45jpGgg', 18, 'but it was not bad.')]"
      ]
     },
     "execution_count": 23,
     "metadata": {},
     "output_type": "execute_result"
    }
   ],
   "source": [
    "import random\n",
    "def random_selection(sentence_list, tipNum):\n",
    "    return random.sample(sentence_list, tipNum)\n",
    "\n",
    "random_selection(sentence_list, 10)"
   ]
  },
  {
   "cell_type": "code",
   "execution_count": 36,
   "metadata": {
    "collapsed": false
   },
   "outputs": [
    {
     "name": "stdout",
     "output_type": "stream",
     "text": [
      "(20, 'food is really good.')\n",
      "(20, 'food was very spicy.')\n",
      "(20, 'not great, but good.')\n",
      "(20, 'no etiquette at all.')\n",
      "(20, \"what's indo-chinese?\")\n",
      "(20, \"i'll be coming back!\")\n",
      "(20, 'it was out of place.')\n",
      "(20, \"yeh, it's that good.\")\n",
      "(20, 'that was clutch lol.')\n",
      "(20, 'seemed like forever.')\n",
      "(20, 'without a wine list.')\n",
      "(20, 'absolutely horrible.')\n",
      "(20, 'absolute perfection.')\n",
      "(20, 'please send me some!')\n",
      "(20, 'fat girl annoyances!')\n",
      "(20, 'i had the black cod.')\n",
      "(20, 'here are the issues.')\n",
      "(20, 'must eat here again.')\n",
      "(20, 'a near perfect meal.')\n",
      "(20, 'it is a solid salad.')\n",
      "(20, 'tomatoes are decent.')\n",
      "(20, 'the drinks were meh.')\n",
      "(20, 'its around $10 more.')\n",
      "(20, 'pricey but worth it!')\n",
      "(20, 'check out my photos.')\n",
      "(20, 'location on eastern.')\n",
      "(20, \"i think it's closed!\")\n",
      "(20, 'okay, expected that.')\n",
      "(20, '\"more bad news sir.\"')\n",
      "(20, 'and i dont know why.')\n"
     ]
    },
    {
     "data": {
      "text/plain": [
       "[('FlJ9-_AQrWBHnu8atU1sVg', 0, 'food is really good.'),\n",
       " ('phyq1VfxA8SQHmd43T42cg', 3, 'food was very spicy.'),\n",
       " ('321SNCqAWNCWQ5_mXbgXOQ', 1, 'not great, but good.'),\n",
       " ('321SNCqAWNCWQ5_mXbgXOQ', 5, 'no etiquette at all.'),\n",
       " ('vYeKvksvWXksCkxJNZkQBg', 7, \"what's indo-chinese?\"),\n",
       " ('sfKBkBgmLJzkHZyoZ-kT5A', 15, \"i'll be coming back!\"),\n",
       " ('_i1o7zF1GT4PNekcEQucMA', 4, 'it was out of place.'),\n",
       " ('yf_Ao4jqReuGb6LjXuV8xw', 2, \"yeh, it's that good.\"),\n",
       " ('1cdsYfIGpo_rYX_S_E77FA', 2, 'that was clutch lol.'),\n",
       " ('Dez05276XHtmzKKAocWXvQ', 1, 'seemed like forever.'),\n",
       " ('Dez05276XHtmzKKAocWXvQ', 3, 'without a wine list.'),\n",
       " ('8pGFz2MZj0Es-KLTWB9s4Q', 6, 'absolutely horrible.'),\n",
       " ('4oLDJpoapJtZUB8Ue3j2iQ', 2, 'absolute perfection.'),\n",
       " ('uHDoC7du3X-CVFQRyCweCw', 5, 'please send me some!'),\n",
       " ('1LI3l0M1rZcSa2m28nr1WQ', 7, 'fat girl annoyances!'),\n",
       " ('tqgPaCDzPB_lAgunUtQqNA', 9, 'i had the black cod.'),\n",
       " ('4XczQlVWvzE4LguYcU_1uQ', 2, 'here are the issues.'),\n",
       " ('jOite0Y6iOo_Y1gW3ikxTg', 1, 'must eat here again.'),\n",
       " ('2dMdwLZeJ6RrJ3Ng51P-rg', 0, 'a near perfect meal.'),\n",
       " ('OI_jOYussTB3Pv8yDHRCew', 9, 'it is a solid salad.'),\n",
       " ('j4oWjonu52YdlgqTGn7WoA', 8, 'tomatoes are decent.'),\n",
       " ('j4oWjonu52YdlgqTGn7WoA', 12, 'the drinks were meh.'),\n",
       " ('TnZqCVdZ03E_ZcjupQYXnw', 3, 'its around $10 more.'),\n",
       " ('4h1IZhnH3JwIYOJ3yiJGLw', 0, 'pricey but worth it!'),\n",
       " ('yIn4oOG7Iey8B0yX9e_ujg', 13, 'check out my photos.'),\n",
       " ('opHq2Qef9jsogVw8l0d0xQ', 1, 'location on eastern.'),\n",
       " ('K1Qflzl2ADCSai7DqgGKRA', 0, \"i think it's closed!\"),\n",
       " ('CQSwbKgx0FrLpticII7BaA', 2, 'okay, expected that.'),\n",
       " ('CQSwbKgx0FrLpticII7BaA', 22, '\"more bad news sir.\"'),\n",
       " ('Et6WCuzU_l23jnHxk7VLMA', 10, 'and i dont know why.')]"
      ]
     },
     "execution_count": 36,
     "metadata": {},
     "output_type": "execute_result"
    }
   ],
   "source": [
    "def minLength_selection(sentence_list, tipNum, minLen):\n",
    "    sortedReviews = sorted(sentence_list, key = lambda p: len(p[2]))\n",
    "    \n",
    "    minLengthSentences = []\n",
    "    k = 0\n",
    "    total = len(sortedReviews)\n",
    "    \n",
    "    while len(minLengthSentences) < tipNum:\n",
    "        if k >= total:\n",
    "            break\n",
    "\n",
    "        while len(sortedReviews[k][2]) < minLen:\n",
    "            k += 1\n",
    "        \n",
    "        if k < total:\n",
    "            minLengthSentences.append(sortedReviews[k])\n",
    "            print (len(sortedReviews[k][2]), sortedReviews[k][2])\n",
    "            k += 1\n",
    "            \n",
    "    return minLengthSentences\n",
    "\n",
    "minLength_selection(sentence_list, 30, 20)"
   ]
  },
  {
   "cell_type": "code",
   "execution_count": null,
   "metadata": {
    "collapsed": true
   },
   "outputs": [],
   "source": [
    "def like_selection(review_list)"
   ]
  }
 ],
 "metadata": {
  "kernelspec": {
   "display_name": "Python 2",
   "language": "python",
   "name": "python2"
  },
  "language_info": {
   "codemirror_mode": {
    "name": "ipython",
    "version": 2
   },
   "file_extension": ".py",
   "mimetype": "text/x-python",
   "name": "python",
   "nbconvert_exporter": "python",
   "pygments_lexer": "ipython2",
   "version": "2.7.9"
  }
 },
 "nbformat": 4,
 "nbformat_minor": 0
}
