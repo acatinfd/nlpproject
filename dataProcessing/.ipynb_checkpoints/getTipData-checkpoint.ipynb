{
 "cells": [
  {
   "cell_type": "code",
   "execution_count": null,
   "metadata": {
    "collapsed": false
   },
   "outputs": [],
   "source": [
    "import pickle\n",
    "\n",
    "all_business = pickle.load(open( \"../../saveBusiness.p\", \"rb\" ))"
   ]
  },
  {
   "cell_type": "code",
   "execution_count": null,
   "metadata": {
    "collapsed": false
   },
   "outputs": [],
   "source": [
    "import nltk\n",
    "\n",
    "tipData = []\n",
    "count = 0\n",
    "for business in all_business.values():\n",
    "    if count > 50:\n",
    "        break\n",
    "    for tip in business['tips']:\n",
    "        sentences = nltk.sent_tokenize(tip.lower())\n",
    "        for sen in sentences:\n",
    "            print sentence\n",
    "            count += 1\n",
    "            tipData.append(sen)"
   ]
  },
  {
   "cell_type": "code",
   "execution_count": null,
   "metadata": {
    "collapsed": true
   },
   "outputs": [],
   "source": [
    "len(tipData)\n",
    "pickle.dump(tipData, open( \"tipData.p\", \"wb\") )"
   ]
  }
 ],
 "metadata": {
  "kernelspec": {
   "display_name": "Python 2",
   "language": "python",
   "name": "python2"
  },
  "language_info": {
   "codemirror_mode": {
    "name": "ipython",
    "version": 2
   },
   "file_extension": ".py",
   "mimetype": "text/x-python",
   "name": "python",
   "nbconvert_exporter": "python",
   "pygments_lexer": "ipython2",
   "version": "2.7.9"
  }
 },
 "nbformat": 4,
 "nbformat_minor": 0
}
