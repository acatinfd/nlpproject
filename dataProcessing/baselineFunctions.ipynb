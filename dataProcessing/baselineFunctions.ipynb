{
 "cells": [
  {
   "cell_type": "code",
   "execution_count": 14,
   "metadata": {
    "collapsed": true
   },
   "outputs": [],
   "source": [
    "import pickle\n",
    "\n",
    "test_set = pickle.load ( open ( \"../../saveReviewTestSet.p\", \"rb\") )\n"
   ]
  },
  {
   "cell_type": "code",
   "execution_count": 15,
   "metadata": {
    "collapsed": true
   },
   "outputs": [],
   "source": [
    "sentence_list = pickle.load ( open ( \"smallTestSet.p\", \"rb\") )\n",
    "Pos = 905"
   ]
  },
  {
   "cell_type": "code",
   "execution_count": 16,
   "metadata": {
    "collapsed": true
   },
   "outputs": [],
   "source": [
    "def getScore(review):\n",
    "    return review['votes']['funny'] + review['votes']['useful'] + review['votes']['cool']\n",
    "\n",
    "reviewScores = {}\n",
    "for business in test_set:\n",
    "        for review in business['reviews']:\n",
    "            reviewScores[review['review_id']] = getScore(review)"
   ]
  },
  {
   "cell_type": "code",
   "execution_count": 17,
   "metadata": {
    "collapsed": false
   },
   "outputs": [],
   "source": [
    "#get popular selection on the small test set\n",
    "minLen = 20\n",
    "\n",
    "\"\"\"\n",
    "def getScore(review):\n",
    "    return review['votes']['funny'] + review['votes']['useful'] + review['votes']['cool']\n",
    "\n",
    "reviewScores = {}\n",
    "for business in test_set:\n",
    "        for review in business['reviews']:\n",
    "            reviewScores[review['review_id']] = getScore(review)\n",
    "\"\"\"\n",
    "\n",
    "smallTestSet = []\n",
    "#shrink the test_set to be the same set of sentence_list\n",
    "for sen in sentence_list:\n",
    "    smallTestSet.append((sen[0], sen[1], reviewScores[sen[0]], sen[2]))\n",
    "\n",
    "popularTips = []\n",
    "sortedSentencesSet = sorted(smallTestSet, key = lambda p: p[2])\n",
    "total = len(sortedSentencesSet)\n"
   ]
  },
  {
   "cell_type": "code",
   "execution_count": 18,
   "metadata": {
    "collapsed": false
   },
   "outputs": [
    {
     "name": "stdout",
     "output_type": "stream",
     "text": [
      "905\n"
     ]
    }
   ],
   "source": [
    "i = 0\n",
    "while len(popularTips) < Pos:\n",
    "    \n",
    "    if i >= total:\n",
    "        break\n",
    "            \n",
    "    sentence = sortedSentencesSet[total - 1 - i]\n",
    "        \n",
    "    if len(sentence[3]) >= minLen:\n",
    "        popularTips.append((sentence[0], sentence[1], sentence[3]) )\n",
    "        #print (sentence[2], sentence[3])\n",
    "    i += 1\n",
    "        \n",
    "pickle.dump(popularTips, open( \"popular.p\", \"wb\") )   \n",
    "print (len(popularTips))"
   ]
  },
  {
   "cell_type": "code",
   "execution_count": 17,
   "metadata": {
    "collapsed": false
   },
   "outputs": [
    {
     "name": "stdout",
     "output_type": "stream",
     "text": [
      "('count: ', 10351)\n"
     ]
    }
   ],
   "source": [
    "import nltk\n",
    "\n",
    "sentence_list = []\n",
    "count = 0\n",
    "\n",
    "for business in test_set:\n",
    "    for review in business['reviews']:\n",
    "        sentences = nltk.sent_tokenize(review['text'].lower())\n",
    "        count += len(sentences)\n",
    "        k = 0\n",
    "        for sentence in sentences:\n",
    "            sentence_list.append((review['review_id'], k, sentence) )\n",
    "            k += 1\n",
    "        \n",
    "len(sentence_list)\n",
    "print (\"sentence list: \", len(sentence_list) )\n",
    "print ('count: ', count)"
   ]
  },
  {
   "cell_type": "code",
   "execution_count": 5,
   "metadata": {
    "collapsed": false
   },
   "outputs": [],
   "source": [
    "def maxLength_selection(sentence_list, tipNum):\n",
    "    sortedReviews = sorted(sentence_list, key = lambda p: len(p[2]))\n",
    "    totalLen = len(sortedReviews)\n",
    "    \n",
    "    maxLengthSentences = []\n",
    "    for i in range(tipNum):\n",
    "        if i < totalLen:\n",
    "            maxLengthSentences.append(sortedReviews[totalLen - i - 1])\n",
    "            #print (len(sortedReviews[totalLen - i - 1][2]), sortedReviews[totalLen - i - 1][2])\n",
    "        i += 1\n",
    "    \n",
    "    return maxLengthSentences\n",
    "\n",
    "result_max = maxLength_selection(sentence_list, Pos)\n",
    "pickle.dump(result_max, open( \"maxLen.p\", \"wb\") )"
   ]
  },
  {
   "cell_type": "code",
   "execution_count": 19,
   "metadata": {
    "collapsed": false
   },
   "outputs": [],
   "source": [
    "import random\n",
    "def random_selection(sentence_list, tipNum):\n",
    "    total = min(len(sentence_list), tipNum)\n",
    "    \n",
    "    return random.sample(sentence_list, total)\n",
    "\n",
    "result_random = random_selection(sentence_list, len(sentence_list)/2)\n",
    "pickle.dump(result_random, open( \"random.p\", \"wb\") )"
   ]
  },
  {
   "cell_type": "code",
   "execution_count": 15,
   "metadata": {
    "collapsed": false
   },
   "outputs": [],
   "source": [
    "def minLength_selection(sentence_list, tipNum, minLen):\n",
    "    sortedReviews = sorted(sentence_list, key = lambda p: len(p[2]))\n",
    "    \n",
    "    minLengthSentences = []\n",
    "    k = 0\n",
    "    total = len(sortedReviews)\n",
    "    \n",
    "    while len(minLengthSentences) < tipNum:\n",
    "        if k >= total:\n",
    "            break\n",
    "\n",
    "        while k < total and len(sortedReviews[k][2]) < minLen:\n",
    "            k += 1\n",
    "        \n",
    "        if k < total:\n",
    "            minLengthSentences.append(sortedReviews[k])\n",
    "            print (len(sortedReviews[k][2]), sortedReviews[k][2])\n",
    "            k += 1\n",
    "            \n",
    "    return minLengthSentences\n",
    "\n",
    "result_min = minLength_selection(sentence_list, 20, Pos)\n",
    "pickle.dump(result_min, open( \"minLen.p\", \"wb\") )"
   ]
  },
  {
   "cell_type": "code",
   "execution_count": 52,
   "metadata": {
    "collapsed": false
   },
   "outputs": [
    {
     "name": "stdout",
     "output_type": "stream",
     "text": [
      "(68, 'we may be back at some point, but it will be a long while before we do.')\n",
      "(68, 'i hope someone else might be able to identify the mystery spice or ingredient.')\n",
      "(68, 'it was like a trip to the dentists office, everything was numb.')\n",
      "(68, \"but i haven't been able to taste anything for the last five hours.\")\n",
      "(68, \"the dish itself wasn't spicy, maybe a 6 on a 10 scale.\")\n",
      "(68, \"by my third wonton, i couldn't feel the inside of my mouth and everything just tasted like sand.\")\n",
      "(68, \"i tried a few and found the dish had an odd taste that i couldn't place.\")\n",
      "(68, 'they looked very much like some wontons in hot oil.')\n",
      "(68, 'next up was my spicy wontons.')\n",
      "(68, 'as for the pot stickers, they were deep fried, not pan fried and somewhat bland.')\n",
      "(68, 'so i added a teaspoon dollop of the oil to my bowl.')\n",
      "(68, 'the soup was very good, though not very spicy.')\n",
      "(68, 'i asked for some hot oil from our server and took some pictures.')\n",
      "(68, 'no way anyone was going to finish that.')\n",
      "(68, \"first, bare in mind that miu's idea of a small order of soup, is one that comes in a huge, one quart bowl!\")\n",
      "(68, 'while my friend ordered the beef stew and pot stickers.')\n",
      "(68, 'i spied the spicy wontons on the menu and thought they would go nice with the hot & sour soup.')\n",
      "(68, \"we weren't starving, so we decided to order light.\")\n",
      "(68, 'so we were excited that we found ourselves in chandler and only a few miles away.')\n",
      "(68, 'the reviews were universally good, one might even say great.')\n",
      "(68, 'we have been waiting four months to try this new szechuan place, and now... well.')\n",
      "(68, \"it's been several hours now, and my ability to taste is just returning.\")\n",
      "(68, 'to all who love this restaurant, i offer an apology.')\n",
      "(51, 'i *adored* my visit to pink pony.')\n",
      "(51, 'being greeted like family at the door by the owner set the mood.')\n",
      "(51, 'on the sidewalk is the original home base plate from the scottsdale stadium!')\n",
      "(51, 'pink pony has *tons* of baseball memorabilia.')\n",
      "(51, '(you can comfortably enjoy a meal there.)')\n",
      "(51, 'the bar has great seating.')\n",
      "(51, 'outside seating for when the the oven temperatures are not in effect.')\n",
      "(51, 'this is a stunning restaurant.')\n",
      "(51, 'the pizza of the day was delightful.')\n",
      "(51, \"i'd eat those again in a heartbeat.\")\n",
      "(51, 'the tacos we had were amazing.')\n",
      "(51, 'my partner in crime narrowed our eating options to street tacos ($3/piece) and a $7 pizza.')\n",
      "(51, 'tuesdays offer $4 craft beers.')\n",
      "(51, 'monday 1/2 priced wine.')\n",
      "(51, 'if you come on sunday a bottle of wine and pizza (or prime rib) is only $20.')\n",
      "(51, 'happy hour is sweet.')\n",
      "(51, '[be still my heart.]')\n"
     ]
    },
    {
     "data": {
      "text/plain": [
       "[('jQxbEf5zINzzLTn3y4kNfQ',\n",
       "  24,\n",
       "  'we may be back at some point, but it will be a long while before we do.'),\n",
       " ('jQxbEf5zINzzLTn3y4kNfQ',\n",
       "  23,\n",
       "  'i hope someone else might be able to identify the mystery spice or ingredient.'),\n",
       " ('jQxbEf5zINzzLTn3y4kNfQ',\n",
       "  22,\n",
       "  'it was like a trip to the dentists office, everything was numb.'),\n",
       " ('jQxbEf5zINzzLTn3y4kNfQ',\n",
       "  21,\n",
       "  \"but i haven't been able to taste anything for the last five hours.\"),\n",
       " ('jQxbEf5zINzzLTn3y4kNfQ',\n",
       "  20,\n",
       "  \"the dish itself wasn't spicy, maybe a 6 on a 10 scale.\"),\n",
       " ('jQxbEf5zINzzLTn3y4kNfQ',\n",
       "  19,\n",
       "  \"by my third wonton, i couldn't feel the inside of my mouth and everything just tasted like sand.\"),\n",
       " ('jQxbEf5zINzzLTn3y4kNfQ',\n",
       "  17,\n",
       "  \"i tried a few and found the dish had an odd taste that i couldn't place.\"),\n",
       " ('jQxbEf5zINzzLTn3y4kNfQ',\n",
       "  16,\n",
       "  'they looked very much like some wontons in hot oil.'),\n",
       " ('jQxbEf5zINzzLTn3y4kNfQ', 15, 'next up was my spicy wontons.'),\n",
       " ('jQxbEf5zINzzLTn3y4kNfQ',\n",
       "  14,\n",
       "  'as for the pot stickers, they were deep fried, not pan fried and somewhat bland.'),\n",
       " ('jQxbEf5zINzzLTn3y4kNfQ',\n",
       "  12,\n",
       "  'so i added a teaspoon dollop of the oil to my bowl.'),\n",
       " ('jQxbEf5zINzzLTn3y4kNfQ',\n",
       "  11,\n",
       "  'the soup was very good, though not very spicy.'),\n",
       " ('jQxbEf5zINzzLTn3y4kNfQ',\n",
       "  10,\n",
       "  'i asked for some hot oil from our server and took some pictures.'),\n",
       " ('jQxbEf5zINzzLTn3y4kNfQ', 9, 'no way anyone was going to finish that.'),\n",
       " ('jQxbEf5zINzzLTn3y4kNfQ',\n",
       "  8,\n",
       "  \"first, bare in mind that miu's idea of a small order of soup, is one that comes in a huge, one quart bowl!\"),\n",
       " ('jQxbEf5zINzzLTn3y4kNfQ',\n",
       "  7,\n",
       "  'while my friend ordered the beef stew and pot stickers.'),\n",
       " ('jQxbEf5zINzzLTn3y4kNfQ',\n",
       "  6,\n",
       "  'i spied the spicy wontons on the menu and thought they would go nice with the hot & sour soup.'),\n",
       " ('jQxbEf5zINzzLTn3y4kNfQ',\n",
       "  5,\n",
       "  \"we weren't starving, so we decided to order light.\"),\n",
       " ('jQxbEf5zINzzLTn3y4kNfQ',\n",
       "  4,\n",
       "  'so we were excited that we found ourselves in chandler and only a few miles away.'),\n",
       " ('jQxbEf5zINzzLTn3y4kNfQ',\n",
       "  3,\n",
       "  'the reviews were universally good, one might even say great.'),\n",
       " ('jQxbEf5zINzzLTn3y4kNfQ',\n",
       "  2,\n",
       "  'we have been waiting four months to try this new szechuan place, and now... well.'),\n",
       " ('jQxbEf5zINzzLTn3y4kNfQ',\n",
       "  1,\n",
       "  \"it's been several hours now, and my ability to taste is just returning.\"),\n",
       " ('jQxbEf5zINzzLTn3y4kNfQ',\n",
       "  0,\n",
       "  'to all who love this restaurant, i offer an apology.'),\n",
       " ('fY0HzEGG4mqjT8RzRAnjMQ', 32, 'i *adored* my visit to pink pony.'),\n",
       " ('fY0HzEGG4mqjT8RzRAnjMQ',\n",
       "  31,\n",
       "  'being greeted like family at the door by the owner set the mood.'),\n",
       " ('fY0HzEGG4mqjT8RzRAnjMQ',\n",
       "  30,\n",
       "  'on the sidewalk is the original home base plate from the scottsdale stadium!'),\n",
       " ('fY0HzEGG4mqjT8RzRAnjMQ',\n",
       "  29,\n",
       "  'pink pony has *tons* of baseball memorabilia.'),\n",
       " ('fY0HzEGG4mqjT8RzRAnjMQ', 27, '(you can comfortably enjoy a meal there.)'),\n",
       " ('fY0HzEGG4mqjT8RzRAnjMQ', 26, 'the bar has great seating.'),\n",
       " ('fY0HzEGG4mqjT8RzRAnjMQ',\n",
       "  25,\n",
       "  'outside seating for when the the oven temperatures are not in effect.'),\n",
       " ('fY0HzEGG4mqjT8RzRAnjMQ', 24, 'this is a stunning restaurant.'),\n",
       " ('fY0HzEGG4mqjT8RzRAnjMQ', 23, 'the pizza of the day was delightful.'),\n",
       " ('fY0HzEGG4mqjT8RzRAnjMQ', 22, \"i'd eat those again in a heartbeat.\"),\n",
       " ('fY0HzEGG4mqjT8RzRAnjMQ', 21, 'the tacos we had were amazing.'),\n",
       " ('fY0HzEGG4mqjT8RzRAnjMQ',\n",
       "  18,\n",
       "  'my partner in crime narrowed our eating options to street tacos ($3/piece) and a $7 pizza.'),\n",
       " ('fY0HzEGG4mqjT8RzRAnjMQ', 17, 'tuesdays offer $4 craft beers.'),\n",
       " ('fY0HzEGG4mqjT8RzRAnjMQ', 16, 'monday 1/2 priced wine.'),\n",
       " ('fY0HzEGG4mqjT8RzRAnjMQ',\n",
       "  15,\n",
       "  'if you come on sunday a bottle of wine and pizza (or prime rib) is only $20.'),\n",
       " ('fY0HzEGG4mqjT8RzRAnjMQ', 13, 'happy hour is sweet.'),\n",
       " ('fY0HzEGG4mqjT8RzRAnjMQ', 12, '[be still my heart.]')]"
      ]
     },
     "execution_count": 52,
     "metadata": {},
     "output_type": "execute_result"
    }
   ],
   "source": [
    "#not actually used since test_set needed to be shrunk\n",
    "import nltk\n",
    "\n",
    "def reviewScore(review):\n",
    "    return review['votes']['funny'] + review['votes']['useful'] + review['votes']['cool']\n",
    "\n",
    "def popular_selection(test_set, tipNum, minLen):\n",
    "    scoredReviews = []\n",
    "    \n",
    "    for business in test_set:\n",
    "        for review in business['reviews']:\n",
    "            sentences = nltk.sent_tokenize(review['text'].lower())\n",
    "            score = reviewScore(review)\n",
    "            \n",
    "            k = 0\n",
    "            for sentence in sentences:\n",
    "                scoredReviews.append((review['review_id'], k, score, sentence))\n",
    "                k += 1\n",
    "    \n",
    "    popularTips = []\n",
    "    sortedReviews = sorted(scoredReviews, key = lambda p: p[2])\n",
    "    total = len(sortedReviews)\n",
    "    \n",
    "    i = 0\n",
    "    while len(popularTips) < tipNum:\n",
    "        if i >= total:\n",
    "            break\n",
    "            \n",
    "        sentence = sortedReviews[total - 1 - i]\n",
    "        \n",
    "        if len(sentence[3]) >= minLen:\n",
    "            popularTips.append((sentence[0], sentence[1], sentence[3]) )\n",
    "            #print (sentence[2], sentence[3])\n",
    "        \n",
    "        i += 1\n",
    "        \n",
    "    return popularTips\n",
    "\n",
    "result_po = popular_selection(test_set, 40, 20)\n",
    "\n",
    "    "
   ]
  },
  {
   "cell_type": "code",
   "execution_count": null,
   "metadata": {
    "collapsed": true
   },
   "outputs": [],
   "source": []
  },
  {
   "cell_type": "code",
   "execution_count": null,
   "metadata": {
    "collapsed": true
   },
   "outputs": [],
   "source": []
  }
 ],
 "metadata": {
  "kernelspec": {
   "display_name": "Python 2",
   "language": "python",
   "name": "python2"
  },
  "language_info": {
   "codemirror_mode": {
    "name": "ipython",
    "version": 2
   },
   "file_extension": ".py",
   "mimetype": "text/x-python",
   "name": "python",
   "nbconvert_exporter": "python",
   "pygments_lexer": "ipython2",
   "version": "2.7.9"
  }
 },
 "nbformat": 4,
 "nbformat_minor": 0
}
