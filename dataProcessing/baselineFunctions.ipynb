{
 "cells": [
  {
   "cell_type": "code",
   "execution_count": 1,
   "metadata": {
    "collapsed": true
   },
   "outputs": [],
   "source": [
    "import pickle\n",
    "\n",
    "test_set = pickle.load ( open ( \"../../saveReviewTestSet.p\", \"rb\") )"
   ]
  },
  {
   "cell_type": "code",
   "execution_count": 17,
   "metadata": {
    "collapsed": false
   },
   "outputs": [
    {
     "name": "stdout",
     "output_type": "stream",
     "text": [
      "('count: ', 10351)\n"
     ]
    }
   ],
   "source": [
    "import nltk\n",
    "\n",
    "sentence_list = []\n",
    "count = 0\n",
    "\n",
    "for business in test_set:\n",
    "    for review in business['reviews']:\n",
    "        sentences = nltk.sent_tokenize(review['text'].lower())\n",
    "        count += len(sentences)\n",
    "        k = 0\n",
    "        for sentence in sentences:\n",
    "            sentence_list.append((review['review_id'], k, sentence) )\n",
    "            k += 1\n",
    "        \n",
    "len(sentence_list)\n",
    "print (\"sentence list: \", len(sentence_list) )\n",
    "print ('count: ', count)"
   ]
  },
  {
   "cell_type": "code",
   "execution_count": 50,
   "metadata": {
    "collapsed": false
   },
   "outputs": [
    {
     "name": "stdout",
     "output_type": "stream",
     "text": [
      "(682, \"oh so my first time here and i was starving upon arrival so i ordered the platter for app and raw filet mignon with quail egg... the platter consisted of fried frog legs, a big crab cake in center, friend shrimp and scallops (i think) it was soo much but i was hungry so as a entree i ordered stuffed lobster which i did not eat all but it was good, i was really stuffed, i can't do all the fried food, it irritates my stomach so the platter wasn't a good choice but if was not nasty, quite good.. i went luton the rooftop where the view was beautiful and they had a zip line there which i didn't get on due to dear if heights but my tummy was satisfied but def over priced in a way\")\n",
      "(663, \"i went out for the evening with my cousin since the place that she had a groupon for was completely slammed last night...  we hemmed, hawed and finally decided on ri ra... \\n\\nmy experience was solid...  our bartender michael was an absolute delight... he was attentive and offered suggestions...  since i already had dinner for the night, i wasn't very hungry, but i was interested in trying something... i decided on the potato and leek soup, which was incredibly creamy and delicious...  for drinks, i had the jameson rose (which was a vibrant pink... i don't know why that surprised me as much as it did, but it was pretty cool... lol) and a beer flight for $6.\")\n",
      "(644, 'we had\\\\uff1a\\nappetizers:\\nchengdu clear noodles\\\\uff08\\\\u6210\\\\u90fd\\\\u51c9\\\\u7c89\\\\uff09\\nscallion pancakes\\\\u3000\\\\uff08\\\\u8471\\\\u6cb9\\\\u997c\\\\uff09\\n\\nmain courses:\\nbraised duck with scallion\\\\uff08\\\\u4eac\\\\u8471\\\\u6252\\\\u9e2d\\\\uff09\\nfire pot with pork intestine and hot sauce\\\\uff08\\\\u5e72\\\\u9505\\\\u80a5\\\\u80a0\\\\uff09\\nsteam fish with pickled peppers in hunan style (\\\\u8dfa\\\\u6912\\\\u5168\\\\u9c7c\\\\uff09\\ncelery fried with dry tofu and peppers (\\\\u5c0f\\\\u6912\\\\u9999\\\\u5e72\\\\u7092\\\\u82b9\\\\u83dc\\\\uff09\\n\\nthe braised duck with scallion\\\\uff08\\\\u4eac\\\\u8471\\\\u6252\\\\u9e2d\\\\uff09 and the steam fish with pickled peppers in hunan style (\\\\u8dfa\\\\u6912\\\\u5168\\\\u9c7c\\\\uff09 were really the highlights.')\n",
      "(559, '= = = = = =\\n\\nmade it back up here today, joined this time by mike c. and jackie r.  they had a big selection of about 90 items out on the buffet this time, including tender roast beef, jerk chicken, talalpia in a sauce, breaded, fried catfish (both fishes mild and tasty), 3 soups including great vegetable beef with big cubes of tender meat, lots of salad goodies including good cottage cheese, swiss steak, tasty chicken breasts in a sauce, macaroni & cheese, & much more, plus plenty of desserts including chocolate tarts and really good coconut cream pie.')\n",
      "(549, \"what i really liked about this sisig was that it was on a sizzling platter so the bottom of the sisig was nice and crispy by the time we were done...i would've sat there and scraped everything off if i could but plastic utensils don't work as well for that...\\n\\noh yeah, speaking of- they give us plastic utensils and styrofoam plates...oh well, they did have a buffet but i'm not down with that...overall, it's definitely a place to revisit since it's up close to anthem and we don't have to drive all the way to chinatown for sisig or spicy shrimp!\")\n",
      "(502, \"dishes that separate tarbell's from others:\\n\\n soups to die for\\n caesar the way it was meant to taste\\n pommes frites as heavenly as any in paris or \\n                                     brussels\\n sliders to crave many days after\\n scotch beef i continue to dream about\\n pan roasted chicken - i never order chicken in a \\n                                     restaurant, except here\\n mac & cheese good enough for dessert\\n\\nif this isn't five star in phoenix, i can't imagine what is, but i want to go there!\")\n",
      "(458, 'it comes with peanut sauce and cucumber dip which is not actually dip, it\\'s yummy pickled cucumber slices in this ridiculous somewhat sweet sauce that may entice you lick the bowl and ask for more...  \\n\\nsoups; their koew num (wonton) soup is good however i suggest going for the tom ka gai which is a hot/sour soup with chicken, lemon grass, mushrooms, something else not sure what is but taste good in a coconut milk broth served in a \"flaming soup tureen\".')\n",
      "(421, \"my cousin thoroughly enjoyed her nachos, but she sent back a cocktail... she apparently ordered a drink that no one ever asks for because michael had to check the menu to remember how to make it... it didn't sound like it would taste great from the description and my cousin is ultra picky, so i don't fault him at all... lol\\n\\noverall, i had a fabulous time at ri ra... i might have to start going out a bit more often...\")\n",
      "(386, \"yes, it was starting to get crowded, but it seemed like our server favored certain groups of people - maybe an assumption on my part, but it was based on attire and maybe how much tip she would anticipate getting from the group.... later when we were all ready to go a close our tabs, we basically had to recite our drink orders to her since she didn't even bother to keep track for us.\")\n",
      "(380, 'i sat in the comfy large booth and shared the chopped salad (beautifully packed with colors of grilled chicken, diced cucumbers, sliced red bell peppers, bacon, mixed greens, corn, and pork bits) and the pink pony burger (website description: wi cheddar, crispy pork belly, avocado, garlic aioli, slow roasted tomato, bibb lettuce and butter bun - minus the fried egg) with fries.')\n"
     ]
    },
    {
     "data": {
      "text/plain": [
       "[('RkV23OvfxTEjtMuSDH7_XQ',\n",
       "  0,\n",
       "  \"oh so my first time here and i was starving upon arrival so i ordered the platter for app and raw filet mignon with quail egg... the platter consisted of fried frog legs, a big crab cake in center, friend shrimp and scallops (i think) it was soo much but i was hungry so as a entree i ordered stuffed lobster which i did not eat all but it was good, i was really stuffed, i can't do all the fried food, it irritates my stomach so the platter wasn't a good choice but if was not nasty, quite good.. i went luton the rooftop where the view was beautiful and they had a zip line there which i didn't get on due to dear if heights but my tummy was satisfied but def over priced in a way\"),\n",
       " ('UlNlpu0lSuJ5rkJ9DK68Jw',\n",
       "  0,\n",
       "  \"i went out for the evening with my cousin since the place that she had a groupon for was completely slammed last night...  we hemmed, hawed and finally decided on ri ra... \\n\\nmy experience was solid...  our bartender michael was an absolute delight... he was attentive and offered suggestions...  since i already had dinner for the night, i wasn't very hungry, but i was interested in trying something... i decided on the potato and leek soup, which was incredibly creamy and delicious...  for drinks, i had the jameson rose (which was a vibrant pink... i don't know why that surprised me as much as it did, but it was pretty cool... lol) and a beer flight for $6.\"),\n",
       " ('-YkjJlyx1-sG4C6x7Xy3Iw',\n",
       "  6,\n",
       "  'we had\\\\uff1a\\nappetizers:\\nchengdu clear noodles\\\\uff08\\\\u6210\\\\u90fd\\\\u51c9\\\\u7c89\\\\uff09\\nscallion pancakes\\\\u3000\\\\uff08\\\\u8471\\\\u6cb9\\\\u997c\\\\uff09\\n\\nmain courses:\\nbraised duck with scallion\\\\uff08\\\\u4eac\\\\u8471\\\\u6252\\\\u9e2d\\\\uff09\\nfire pot with pork intestine and hot sauce\\\\uff08\\\\u5e72\\\\u9505\\\\u80a5\\\\u80a0\\\\uff09\\nsteam fish with pickled peppers in hunan style (\\\\u8dfa\\\\u6912\\\\u5168\\\\u9c7c\\\\uff09\\ncelery fried with dry tofu and peppers (\\\\u5c0f\\\\u6912\\\\u9999\\\\u5e72\\\\u7092\\\\u82b9\\\\u83dc\\\\uff09\\n\\nthe braised duck with scallion\\\\uff08\\\\u4eac\\\\u8471\\\\u6252\\\\u9e2d\\\\uff09 and the steam fish with pickled peppers in hunan style (\\\\u8dfa\\\\u6912\\\\u5168\\\\u9c7c\\\\uff09 were really the highlights.'),\n",
       " ('Pa0xouPg6bk_Lc1epD3nLg',\n",
       "  1,\n",
       "  '= = = = = =\\n\\nmade it back up here today, joined this time by mike c. and jackie r.  they had a big selection of about 90 items out on the buffet this time, including tender roast beef, jerk chicken, talalpia in a sauce, breaded, fried catfish (both fishes mild and tasty), 3 soups including great vegetable beef with big cubes of tender meat, lots of salad goodies including good cottage cheese, swiss steak, tasty chicken breasts in a sauce, macaroni & cheese, & much more, plus plenty of desserts including chocolate tarts and really good coconut cream pie.'),\n",
       " ('f4tseiUzBic3-MjAMFnu1Q',\n",
       "  6,\n",
       "  \"what i really liked about this sisig was that it was on a sizzling platter so the bottom of the sisig was nice and crispy by the time we were done...i would've sat there and scraped everything off if i could but plastic utensils don't work as well for that...\\n\\noh yeah, speaking of- they give us plastic utensils and styrofoam plates...oh well, they did have a buffet but i'm not down with that...overall, it's definitely a place to revisit since it's up close to anthem and we don't have to drive all the way to chinatown for sisig or spicy shrimp!\"),\n",
       " ('Ie4ZrI_rMaWfKvoaC-AuEg',\n",
       "  1,\n",
       "  \"dishes that separate tarbell's from others:\\n\\n soups to die for\\n caesar the way it was meant to taste\\n pommes frites as heavenly as any in paris or \\n                                     brussels\\n sliders to crave many days after\\n scotch beef i continue to dream about\\n pan roasted chicken - i never order chicken in a \\n                                     restaurant, except here\\n mac & cheese good enough for dessert\\n\\nif this isn't five star in phoenix, i can't imagine what is, but i want to go there!\"),\n",
       " ('I6vbgBGARua2KYTLQQFIzg',\n",
       "  2,\n",
       "  'it comes with peanut sauce and cucumber dip which is not actually dip, it\\'s yummy pickled cucumber slices in this ridiculous somewhat sweet sauce that may entice you lick the bowl and ask for more...  \\n\\nsoups; their koew num (wonton) soup is good however i suggest going for the tom ka gai which is a hot/sour soup with chicken, lemon grass, mushrooms, something else not sure what is but taste good in a coconut milk broth served in a \"flaming soup tureen\".'),\n",
       " ('UlNlpu0lSuJ5rkJ9DK68Jw',\n",
       "  2,\n",
       "  \"my cousin thoroughly enjoyed her nachos, but she sent back a cocktail... she apparently ordered a drink that no one ever asks for because michael had to check the menu to remember how to make it... it didn't sound like it would taste great from the description and my cousin is ultra picky, so i don't fault him at all... lol\\n\\noverall, i had a fabulous time at ri ra... i might have to start going out a bit more often...\"),\n",
       " ('XwGLgmsEsBRstP3mx7_CUw',\n",
       "  3,\n",
       "  \"yes, it was starting to get crowded, but it seemed like our server favored certain groups of people - maybe an assumption on my part, but it was based on attire and maybe how much tip she would anticipate getting from the group.... later when we were all ready to go a close our tabs, we basically had to recite our drink orders to her since she didn't even bother to keep track for us.\"),\n",
       " ('akPZtzlwK_DBwPyudQVgdA',\n",
       "  1,\n",
       "  'i sat in the comfy large booth and shared the chopped salad (beautifully packed with colors of grilled chicken, diced cucumbers, sliced red bell peppers, bacon, mixed greens, corn, and pork bits) and the pink pony burger (website description: wi cheddar, crispy pork belly, avocado, garlic aioli, slow roasted tomato, bibb lettuce and butter bun - minus the fried egg) with fries.')]"
      ]
     },
     "execution_count": 50,
     "metadata": {},
     "output_type": "execute_result"
    }
   ],
   "source": [
    "def maxLength_selection(sentence_list, tipNum):\n",
    "    sortedReviews = sorted(sentence_list, key = lambda p: len(p[2]))\n",
    "    totalLen = len(sortedReviews)\n",
    "    \n",
    "    maxLengthSentences = []\n",
    "    for i in range(tipNum):\n",
    "        if i < totalLen:\n",
    "            maxLengthSentences.append(sortedReviews[totalLen - i - 1])\n",
    "            print (len(sortedReviews[totalLen - i - 1][2]), sortedReviews[totalLen - i - 1][2])\n",
    "        i += 1\n",
    "    \n",
    "    return maxLengthSentences\n",
    "\n",
    "maxLength_selection(sentence_list, 10)"
   ]
  },
  {
   "cell_type": "code",
   "execution_count": 51,
   "metadata": {
    "collapsed": false
   },
   "outputs": [
    {
     "data": {
      "text/plain": [
       "[('YykEI21aXYvqe498kuxf2A', 6, 'blocked our entire view of the street.'),\n",
       " ('MYVhbbOrGJeAxhN3dDk8dg',\n",
       "  4,\n",
       "  'i tried:\\n\\n*snow crab: okay but overcooked/rubbery.'),\n",
       " ('supE7MGn2Z9VBqx1wumNdA',\n",
       "  8,\n",
       "  'the food looked so bad that i resorted to eating the safest things, corn bread and apple pie filling.'),\n",
       " ('pylKaXcluS1YEWQdenOyeg',\n",
       "  22,\n",
       "  \"i think i'll give it  a month or so before i return.\"),\n",
       " ('_m2dXmAYm0Jq_XOPMRKzfw', 17, '!'),\n",
       " ('tGOIGSwRd_2wu8mh169IEA',\n",
       "  13,\n",
       "  \"the food was good, nothing exciting, except for the country ham... which tasted like i'd just popped a gram of salt in my mouth, but becky likes it.\"),\n",
       " ('y16khrtcibKLfvB509gYtA',\n",
       "  9,\n",
       "  'they were singing & dancing and generally having a fantastic time.'),\n",
       " ('8Spqqn02HVRktVCLnZY8Ag',\n",
       "  2,\n",
       "  'maybe u guys can choose golden harbor to eat the chinese restaurant\\ndo not come to this bad restaurant\\nyou will be regret for your choice'),\n",
       " ('IzMrNP_l5ldpRU8PzoXaZw',\n",
       "  0,\n",
       "  \"we have been to tarbell's numerous times and it is always an excellent dining experience.\"),\n",
       " ('5nREKhkIXZPo6JgkmbBtAQ',\n",
       "  3,\n",
       "  \"everyone's prime rib was huge and tasty looking, lots of positive feedback on the prime rib, vege's were asparagus which had a sauce on them and were not crunchy and looked gray.. not fresh and green.. 1 star there.\")]"
      ]
     },
     "execution_count": 51,
     "metadata": {},
     "output_type": "execute_result"
    }
   ],
   "source": [
    "import random\n",
    "def random_selection(sentence_list, tipNum):\n",
    "    total = min(len(sentence_list), tipNum)\n",
    "    \n",
    "    return random.sample(sentence_list, total)\n",
    "\n",
    "random_selection(sentence_list, 10)"
   ]
  },
  {
   "cell_type": "code",
   "execution_count": 49,
   "metadata": {
    "collapsed": false
   },
   "outputs": [
    {
     "name": "stdout",
     "output_type": "stream",
     "text": [
      "(502, \"dishes that separate tarbell's from others:\\n\\n soups to die for\\n caesar the way it was meant to taste\\n pommes frites as heavenly as any in paris or \\n                                     brussels\\n sliders to crave many days after\\n scotch beef i continue to dream about\\n pan roasted chicken - i never order chicken in a \\n                                     restaurant, except here\\n mac & cheese good enough for dessert\\n\\nif this isn't five star in phoenix, i can't imagine what is, but i want to go there!\")\n",
      "(549, \"what i really liked about this sisig was that it was on a sizzling platter so the bottom of the sisig was nice and crispy by the time we were done...i would've sat there and scraped everything off if i could but plastic utensils don't work as well for that...\\n\\noh yeah, speaking of- they give us plastic utensils and styrofoam plates...oh well, they did have a buffet but i'm not down with that...overall, it's definitely a place to revisit since it's up close to anthem and we don't have to drive all the way to chinatown for sisig or spicy shrimp!\")\n",
      "(559, '= = = = = =\\n\\nmade it back up here today, joined this time by mike c. and jackie r.  they had a big selection of about 90 items out on the buffet this time, including tender roast beef, jerk chicken, talalpia in a sauce, breaded, fried catfish (both fishes mild and tasty), 3 soups including great vegetable beef with big cubes of tender meat, lots of salad goodies including good cottage cheese, swiss steak, tasty chicken breasts in a sauce, macaroni & cheese, & much more, plus plenty of desserts including chocolate tarts and really good coconut cream pie.')\n",
      "(644, 'we had\\\\uff1a\\nappetizers:\\nchengdu clear noodles\\\\uff08\\\\u6210\\\\u90fd\\\\u51c9\\\\u7c89\\\\uff09\\nscallion pancakes\\\\u3000\\\\uff08\\\\u8471\\\\u6cb9\\\\u997c\\\\uff09\\n\\nmain courses:\\nbraised duck with scallion\\\\uff08\\\\u4eac\\\\u8471\\\\u6252\\\\u9e2d\\\\uff09\\nfire pot with pork intestine and hot sauce\\\\uff08\\\\u5e72\\\\u9505\\\\u80a5\\\\u80a0\\\\uff09\\nsteam fish with pickled peppers in hunan style (\\\\u8dfa\\\\u6912\\\\u5168\\\\u9c7c\\\\uff09\\ncelery fried with dry tofu and peppers (\\\\u5c0f\\\\u6912\\\\u9999\\\\u5e72\\\\u7092\\\\u82b9\\\\u83dc\\\\uff09\\n\\nthe braised duck with scallion\\\\uff08\\\\u4eac\\\\u8471\\\\u6252\\\\u9e2d\\\\uff09 and the steam fish with pickled peppers in hunan style (\\\\u8dfa\\\\u6912\\\\u5168\\\\u9c7c\\\\uff09 were really the highlights.')\n",
      "(663, \"i went out for the evening with my cousin since the place that she had a groupon for was completely slammed last night...  we hemmed, hawed and finally decided on ri ra... \\n\\nmy experience was solid...  our bartender michael was an absolute delight... he was attentive and offered suggestions...  since i already had dinner for the night, i wasn't very hungry, but i was interested in trying something... i decided on the potato and leek soup, which was incredibly creamy and delicious...  for drinks, i had the jameson rose (which was a vibrant pink... i don't know why that surprised me as much as it did, but it was pretty cool... lol) and a beer flight for $6.\")\n",
      "(682, \"oh so my first time here and i was starving upon arrival so i ordered the platter for app and raw filet mignon with quail egg... the platter consisted of fried frog legs, a big crab cake in center, friend shrimp and scallops (i think) it was soo much but i was hungry so as a entree i ordered stuffed lobster which i did not eat all but it was good, i was really stuffed, i can't do all the fried food, it irritates my stomach so the platter wasn't a good choice but if was not nasty, quite good.. i went luton the rooftop where the view was beautiful and they had a zip line there which i didn't get on due to dear if heights but my tummy was satisfied but def over priced in a way\")\n"
     ]
    },
    {
     "data": {
      "text/plain": [
       "[('Ie4ZrI_rMaWfKvoaC-AuEg',\n",
       "  1,\n",
       "  \"dishes that separate tarbell's from others:\\n\\n soups to die for\\n caesar the way it was meant to taste\\n pommes frites as heavenly as any in paris or \\n                                     brussels\\n sliders to crave many days after\\n scotch beef i continue to dream about\\n pan roasted chicken - i never order chicken in a \\n                                     restaurant, except here\\n mac & cheese good enough for dessert\\n\\nif this isn't five star in phoenix, i can't imagine what is, but i want to go there!\"),\n",
       " ('f4tseiUzBic3-MjAMFnu1Q',\n",
       "  6,\n",
       "  \"what i really liked about this sisig was that it was on a sizzling platter so the bottom of the sisig was nice and crispy by the time we were done...i would've sat there and scraped everything off if i could but plastic utensils don't work as well for that...\\n\\noh yeah, speaking of- they give us plastic utensils and styrofoam plates...oh well, they did have a buffet but i'm not down with that...overall, it's definitely a place to revisit since it's up close to anthem and we don't have to drive all the way to chinatown for sisig or spicy shrimp!\"),\n",
       " ('Pa0xouPg6bk_Lc1epD3nLg',\n",
       "  1,\n",
       "  '= = = = = =\\n\\nmade it back up here today, joined this time by mike c. and jackie r.  they had a big selection of about 90 items out on the buffet this time, including tender roast beef, jerk chicken, talalpia in a sauce, breaded, fried catfish (both fishes mild and tasty), 3 soups including great vegetable beef with big cubes of tender meat, lots of salad goodies including good cottage cheese, swiss steak, tasty chicken breasts in a sauce, macaroni & cheese, & much more, plus plenty of desserts including chocolate tarts and really good coconut cream pie.'),\n",
       " ('-YkjJlyx1-sG4C6x7Xy3Iw',\n",
       "  6,\n",
       "  'we had\\\\uff1a\\nappetizers:\\nchengdu clear noodles\\\\uff08\\\\u6210\\\\u90fd\\\\u51c9\\\\u7c89\\\\uff09\\nscallion pancakes\\\\u3000\\\\uff08\\\\u8471\\\\u6cb9\\\\u997c\\\\uff09\\n\\nmain courses:\\nbraised duck with scallion\\\\uff08\\\\u4eac\\\\u8471\\\\u6252\\\\u9e2d\\\\uff09\\nfire pot with pork intestine and hot sauce\\\\uff08\\\\u5e72\\\\u9505\\\\u80a5\\\\u80a0\\\\uff09\\nsteam fish with pickled peppers in hunan style (\\\\u8dfa\\\\u6912\\\\u5168\\\\u9c7c\\\\uff09\\ncelery fried with dry tofu and peppers (\\\\u5c0f\\\\u6912\\\\u9999\\\\u5e72\\\\u7092\\\\u82b9\\\\u83dc\\\\uff09\\n\\nthe braised duck with scallion\\\\uff08\\\\u4eac\\\\u8471\\\\u6252\\\\u9e2d\\\\uff09 and the steam fish with pickled peppers in hunan style (\\\\u8dfa\\\\u6912\\\\u5168\\\\u9c7c\\\\uff09 were really the highlights.'),\n",
       " ('UlNlpu0lSuJ5rkJ9DK68Jw',\n",
       "  0,\n",
       "  \"i went out for the evening with my cousin since the place that she had a groupon for was completely slammed last night...  we hemmed, hawed and finally decided on ri ra... \\n\\nmy experience was solid...  our bartender michael was an absolute delight... he was attentive and offered suggestions...  since i already had dinner for the night, i wasn't very hungry, but i was interested in trying something... i decided on the potato and leek soup, which was incredibly creamy and delicious...  for drinks, i had the jameson rose (which was a vibrant pink... i don't know why that surprised me as much as it did, but it was pretty cool... lol) and a beer flight for $6.\"),\n",
       " ('RkV23OvfxTEjtMuSDH7_XQ',\n",
       "  0,\n",
       "  \"oh so my first time here and i was starving upon arrival so i ordered the platter for app and raw filet mignon with quail egg... the platter consisted of fried frog legs, a big crab cake in center, friend shrimp and scallops (i think) it was soo much but i was hungry so as a entree i ordered stuffed lobster which i did not eat all but it was good, i was really stuffed, i can't do all the fried food, it irritates my stomach so the platter wasn't a good choice but if was not nasty, quite good.. i went luton the rooftop where the view was beautiful and they had a zip line there which i didn't get on due to dear if heights but my tummy was satisfied but def over priced in a way\")]"
      ]
     },
     "execution_count": 49,
     "metadata": {},
     "output_type": "execute_result"
    }
   ],
   "source": [
    "def minLength_selection(sentence_list, tipNum, minLen):\n",
    "    sortedReviews = sorted(sentence_list, key = lambda p: len(p[2]))\n",
    "    \n",
    "    minLengthSentences = []\n",
    "    k = 0\n",
    "    total = len(sortedReviews)\n",
    "    \n",
    "    while len(minLengthSentences) < tipNum:\n",
    "        if k >= total:\n",
    "            break\n",
    "\n",
    "        while k < total and len(sortedReviews[k][2]) < minLen:\n",
    "            k += 1\n",
    "        \n",
    "        if k < total:\n",
    "            minLengthSentences.append(sortedReviews[k])\n",
    "            print (len(sortedReviews[k][2]), sortedReviews[k][2])\n",
    "            k += 1\n",
    "            \n",
    "    return minLengthSentences\n",
    "\n",
    "minLength_selection(sentence_list, 50, 500)"
   ]
  },
  {
   "cell_type": "code",
   "execution_count": 52,
   "metadata": {
    "collapsed": false
   },
   "outputs": [
    {
     "name": "stdout",
     "output_type": "stream",
     "text": [
      "(68, 'we may be back at some point, but it will be a long while before we do.')\n",
      "(68, 'i hope someone else might be able to identify the mystery spice or ingredient.')\n",
      "(68, 'it was like a trip to the dentists office, everything was numb.')\n",
      "(68, \"but i haven't been able to taste anything for the last five hours.\")\n",
      "(68, \"the dish itself wasn't spicy, maybe a 6 on a 10 scale.\")\n",
      "(68, \"by my third wonton, i couldn't feel the inside of my mouth and everything just tasted like sand.\")\n",
      "(68, \"i tried a few and found the dish had an odd taste that i couldn't place.\")\n",
      "(68, 'they looked very much like some wontons in hot oil.')\n",
      "(68, 'next up was my spicy wontons.')\n",
      "(68, 'as for the pot stickers, they were deep fried, not pan fried and somewhat bland.')\n",
      "(68, 'so i added a teaspoon dollop of the oil to my bowl.')\n",
      "(68, 'the soup was very good, though not very spicy.')\n",
      "(68, 'i asked for some hot oil from our server and took some pictures.')\n",
      "(68, 'no way anyone was going to finish that.')\n",
      "(68, \"first, bare in mind that miu's idea of a small order of soup, is one that comes in a huge, one quart bowl!\")\n",
      "(68, 'while my friend ordered the beef stew and pot stickers.')\n",
      "(68, 'i spied the spicy wontons on the menu and thought they would go nice with the hot & sour soup.')\n",
      "(68, \"we weren't starving, so we decided to order light.\")\n",
      "(68, 'so we were excited that we found ourselves in chandler and only a few miles away.')\n",
      "(68, 'the reviews were universally good, one might even say great.')\n",
      "(68, 'we have been waiting four months to try this new szechuan place, and now... well.')\n",
      "(68, \"it's been several hours now, and my ability to taste is just returning.\")\n",
      "(68, 'to all who love this restaurant, i offer an apology.')\n",
      "(51, 'i *adored* my visit to pink pony.')\n",
      "(51, 'being greeted like family at the door by the owner set the mood.')\n",
      "(51, 'on the sidewalk is the original home base plate from the scottsdale stadium!')\n",
      "(51, 'pink pony has *tons* of baseball memorabilia.')\n",
      "(51, '(you can comfortably enjoy a meal there.)')\n",
      "(51, 'the bar has great seating.')\n",
      "(51, 'outside seating for when the the oven temperatures are not in effect.')\n",
      "(51, 'this is a stunning restaurant.')\n",
      "(51, 'the pizza of the day was delightful.')\n",
      "(51, \"i'd eat those again in a heartbeat.\")\n",
      "(51, 'the tacos we had were amazing.')\n",
      "(51, 'my partner in crime narrowed our eating options to street tacos ($3/piece) and a $7 pizza.')\n",
      "(51, 'tuesdays offer $4 craft beers.')\n",
      "(51, 'monday 1/2 priced wine.')\n",
      "(51, 'if you come on sunday a bottle of wine and pizza (or prime rib) is only $20.')\n",
      "(51, 'happy hour is sweet.')\n",
      "(51, '[be still my heart.]')\n"
     ]
    },
    {
     "data": {
      "text/plain": [
       "[('jQxbEf5zINzzLTn3y4kNfQ',\n",
       "  24,\n",
       "  'we may be back at some point, but it will be a long while before we do.'),\n",
       " ('jQxbEf5zINzzLTn3y4kNfQ',\n",
       "  23,\n",
       "  'i hope someone else might be able to identify the mystery spice or ingredient.'),\n",
       " ('jQxbEf5zINzzLTn3y4kNfQ',\n",
       "  22,\n",
       "  'it was like a trip to the dentists office, everything was numb.'),\n",
       " ('jQxbEf5zINzzLTn3y4kNfQ',\n",
       "  21,\n",
       "  \"but i haven't been able to taste anything for the last five hours.\"),\n",
       " ('jQxbEf5zINzzLTn3y4kNfQ',\n",
       "  20,\n",
       "  \"the dish itself wasn't spicy, maybe a 6 on a 10 scale.\"),\n",
       " ('jQxbEf5zINzzLTn3y4kNfQ',\n",
       "  19,\n",
       "  \"by my third wonton, i couldn't feel the inside of my mouth and everything just tasted like sand.\"),\n",
       " ('jQxbEf5zINzzLTn3y4kNfQ',\n",
       "  17,\n",
       "  \"i tried a few and found the dish had an odd taste that i couldn't place.\"),\n",
       " ('jQxbEf5zINzzLTn3y4kNfQ',\n",
       "  16,\n",
       "  'they looked very much like some wontons in hot oil.'),\n",
       " ('jQxbEf5zINzzLTn3y4kNfQ', 15, 'next up was my spicy wontons.'),\n",
       " ('jQxbEf5zINzzLTn3y4kNfQ',\n",
       "  14,\n",
       "  'as for the pot stickers, they were deep fried, not pan fried and somewhat bland.'),\n",
       " ('jQxbEf5zINzzLTn3y4kNfQ',\n",
       "  12,\n",
       "  'so i added a teaspoon dollop of the oil to my bowl.'),\n",
       " ('jQxbEf5zINzzLTn3y4kNfQ',\n",
       "  11,\n",
       "  'the soup was very good, though not very spicy.'),\n",
       " ('jQxbEf5zINzzLTn3y4kNfQ',\n",
       "  10,\n",
       "  'i asked for some hot oil from our server and took some pictures.'),\n",
       " ('jQxbEf5zINzzLTn3y4kNfQ', 9, 'no way anyone was going to finish that.'),\n",
       " ('jQxbEf5zINzzLTn3y4kNfQ',\n",
       "  8,\n",
       "  \"first, bare in mind that miu's idea of a small order of soup, is one that comes in a huge, one quart bowl!\"),\n",
       " ('jQxbEf5zINzzLTn3y4kNfQ',\n",
       "  7,\n",
       "  'while my friend ordered the beef stew and pot stickers.'),\n",
       " ('jQxbEf5zINzzLTn3y4kNfQ',\n",
       "  6,\n",
       "  'i spied the spicy wontons on the menu and thought they would go nice with the hot & sour soup.'),\n",
       " ('jQxbEf5zINzzLTn3y4kNfQ',\n",
       "  5,\n",
       "  \"we weren't starving, so we decided to order light.\"),\n",
       " ('jQxbEf5zINzzLTn3y4kNfQ',\n",
       "  4,\n",
       "  'so we were excited that we found ourselves in chandler and only a few miles away.'),\n",
       " ('jQxbEf5zINzzLTn3y4kNfQ',\n",
       "  3,\n",
       "  'the reviews were universally good, one might even say great.'),\n",
       " ('jQxbEf5zINzzLTn3y4kNfQ',\n",
       "  2,\n",
       "  'we have been waiting four months to try this new szechuan place, and now... well.'),\n",
       " ('jQxbEf5zINzzLTn3y4kNfQ',\n",
       "  1,\n",
       "  \"it's been several hours now, and my ability to taste is just returning.\"),\n",
       " ('jQxbEf5zINzzLTn3y4kNfQ',\n",
       "  0,\n",
       "  'to all who love this restaurant, i offer an apology.'),\n",
       " ('fY0HzEGG4mqjT8RzRAnjMQ', 32, 'i *adored* my visit to pink pony.'),\n",
       " ('fY0HzEGG4mqjT8RzRAnjMQ',\n",
       "  31,\n",
       "  'being greeted like family at the door by the owner set the mood.'),\n",
       " ('fY0HzEGG4mqjT8RzRAnjMQ',\n",
       "  30,\n",
       "  'on the sidewalk is the original home base plate from the scottsdale stadium!'),\n",
       " ('fY0HzEGG4mqjT8RzRAnjMQ',\n",
       "  29,\n",
       "  'pink pony has *tons* of baseball memorabilia.'),\n",
       " ('fY0HzEGG4mqjT8RzRAnjMQ', 27, '(you can comfortably enjoy a meal there.)'),\n",
       " ('fY0HzEGG4mqjT8RzRAnjMQ', 26, 'the bar has great seating.'),\n",
       " ('fY0HzEGG4mqjT8RzRAnjMQ',\n",
       "  25,\n",
       "  'outside seating for when the the oven temperatures are not in effect.'),\n",
       " ('fY0HzEGG4mqjT8RzRAnjMQ', 24, 'this is a stunning restaurant.'),\n",
       " ('fY0HzEGG4mqjT8RzRAnjMQ', 23, 'the pizza of the day was delightful.'),\n",
       " ('fY0HzEGG4mqjT8RzRAnjMQ', 22, \"i'd eat those again in a heartbeat.\"),\n",
       " ('fY0HzEGG4mqjT8RzRAnjMQ', 21, 'the tacos we had were amazing.'),\n",
       " ('fY0HzEGG4mqjT8RzRAnjMQ',\n",
       "  18,\n",
       "  'my partner in crime narrowed our eating options to street tacos ($3/piece) and a $7 pizza.'),\n",
       " ('fY0HzEGG4mqjT8RzRAnjMQ', 17, 'tuesdays offer $4 craft beers.'),\n",
       " ('fY0HzEGG4mqjT8RzRAnjMQ', 16, 'monday 1/2 priced wine.'),\n",
       " ('fY0HzEGG4mqjT8RzRAnjMQ',\n",
       "  15,\n",
       "  'if you come on sunday a bottle of wine and pizza (or prime rib) is only $20.'),\n",
       " ('fY0HzEGG4mqjT8RzRAnjMQ', 13, 'happy hour is sweet.'),\n",
       " ('fY0HzEGG4mqjT8RzRAnjMQ', 12, '[be still my heart.]')]"
      ]
     },
     "execution_count": 52,
     "metadata": {},
     "output_type": "execute_result"
    }
   ],
   "source": [
    "def reviewScore(review):\n",
    "    return review['votes']['funny'] + review['votes']['useful'] + review['votes']['cool']\n",
    "\n",
    "def popular_selection(test_set, tipNum, minLen):\n",
    "    scoredReviews = []\n",
    "    \n",
    "    for business in test_set:\n",
    "        for review in business['reviews']:\n",
    "            sentences = nltk.sent_tokenize(review['text'].lower())\n",
    "            score = reviewScore(review)\n",
    "            \n",
    "            k = 0\n",
    "            for sentence in sentences:\n",
    "                scoredReviews.append((review['review_id'], k, score, sentence))\n",
    "                k += 1\n",
    "    \n",
    "    popularTips = []\n",
    "    sortedReviews = sorted(scoredReviews, key = lambda p: p[2])\n",
    "    total = len(sortedReviews)\n",
    "    \n",
    "    i = 0\n",
    "    while len(popularTips) < tipNum:\n",
    "        if i >= total:\n",
    "            break\n",
    "            \n",
    "        sentence = sortedReviews[total - 1 - i]\n",
    "        \n",
    "        if len(sentence[3]) >= minLen:\n",
    "            popularTips.append((sentence[0], sentence[1], sentence[3]) )\n",
    "            print (sentence[2], sentence[3])\n",
    "        \n",
    "        i += 1\n",
    "        \n",
    "    return popularTips\n",
    "\n",
    "popular_selection(test_set, 40, 20)\n",
    "    "
   ]
  },
  {
   "cell_type": "code",
   "execution_count": null,
   "metadata": {
    "collapsed": true
   },
   "outputs": [],
   "source": []
  }
 ],
 "metadata": {
  "kernelspec": {
   "display_name": "Python 2",
   "language": "python",
   "name": "python2"
  },
  "language_info": {
   "codemirror_mode": {
    "name": "ipython",
    "version": 2
   },
   "file_extension": ".py",
   "mimetype": "text/x-python",
   "name": "python",
   "nbconvert_exporter": "python",
   "pygments_lexer": "ipython2",
   "version": "2.7.9"
  }
 },
 "nbformat": 4,
 "nbformat_minor": 0
}
